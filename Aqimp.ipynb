{
 "cells": [
  {
   "cell_type": "code",
   "execution_count": 10,
   "id": "27f62956",
   "metadata": {},
   "outputs": [],
   "source": [
    "import numpy as np\n",
    "import pandas as pd\n",
    "import plotly_express as px\n",
    "import plotly.graph_objects as go\n",
    "from plotly.subplots import make_subplots\n",
    "import datetime as dt\n",
    "import warnings\n",
    "import os"
   ]
  },
  {
   "cell_type": "code",
   "execution_count": 11,
   "id": "a27287eb",
   "metadata": {},
   "outputs": [],
   "source": [
    "colorscale = ['#77DD77','#33AF13','#F6D20E','#F17700','#FE6B64','#F12424']\n",
    "PAPER_BGCOLOR = '#f5f2d0'\n",
    "BGCOLOR = 'LightSteelBlue'"
   ]
  },
  {
   "cell_type": "code",
   "execution_count": 12,
   "id": "d46dbd18",
   "metadata": {},
   "outputs": [
    {
     "data": {
      "application/vnd.plotly.v1+json": {
       "config": {
        "plotlyServerURL": "https://plot.ly"
       },
       "data": [
        {
         "cells": {
          "align": "left",
          "fill": {
           "color": [
            "rgb(255,255,255)",
            "rgb(255,255,255)",
            [
             "#77DD77",
             "#33AF13",
             "#F6D20E",
             "#F17700",
             "#FE6B64",
             "#F12424"
            ],
            "rgb(255,255,255)"
           ]
          },
          "line": {
           "color": "darkslategray"
          },
          "values": [
           [
            "0-50",
            "51-100",
            "101-200",
            "201-300",
            "301-400",
            "401-500"
           ],
           [
            "Good",
            "Satisfactory",
            "Moderate",
            "Poor",
            "Very Poor",
            "Severe"
           ],
           [
            "",
            "",
            "",
            "",
            "",
            ""
           ],
           [
            "Minimal impact",
            "Minor breathing discomfort to sensitive people",
            "Breathing discomfort to the people with lungs, asthma and heart diseases",
            "Breathing discomfort to most people on prolonged exposure",
            "Respiratory illness on prolonged exposure",
            "Affects healthy people and seriously impacts those with existing diseases"
           ]
          ]
         },
         "columnorder": [
          1,
          2,
          3,
          4
         ],
         "columnwidth": [
          50,
          70,
          60,
          400
         ],
         "header": {
          "align": "left",
          "fill": {
           "color": "skyblue"
          },
          "line": {
           "color": "darkslategray"
          },
          "values": [
           "<b>AQI</b>",
           "<b>Remark</b>",
           "<b>Colour Code</b>",
           "<b>Possible Health Effects</b>"
          ]
         },
         "type": "table"
        }
       ],
       "layout": {
        "height": 180,
        "margin": {
         "b": 5,
         "l": 5,
         "r": 5,
         "t": 5
        },
        "paper_bgcolor": "LightSteelBlue",
        "template": {
         "data": {
          "bar": [
           {
            "error_x": {
             "color": "#2a3f5f"
            },
            "error_y": {
             "color": "#2a3f5f"
            },
            "marker": {
             "line": {
              "color": "#E5ECF6",
              "width": 0.5
             },
             "pattern": {
              "fillmode": "overlay",
              "size": 10,
              "solidity": 0.2
             }
            },
            "type": "bar"
           }
          ],
          "barpolar": [
           {
            "marker": {
             "line": {
              "color": "#E5ECF6",
              "width": 0.5
             },
             "pattern": {
              "fillmode": "overlay",
              "size": 10,
              "solidity": 0.2
             }
            },
            "type": "barpolar"
           }
          ],
          "carpet": [
           {
            "aaxis": {
             "endlinecolor": "#2a3f5f",
             "gridcolor": "white",
             "linecolor": "white",
             "minorgridcolor": "white",
             "startlinecolor": "#2a3f5f"
            },
            "baxis": {
             "endlinecolor": "#2a3f5f",
             "gridcolor": "white",
             "linecolor": "white",
             "minorgridcolor": "white",
             "startlinecolor": "#2a3f5f"
            },
            "type": "carpet"
           }
          ],
          "choropleth": [
           {
            "colorbar": {
             "outlinewidth": 0,
             "ticks": ""
            },
            "type": "choropleth"
           }
          ],
          "contour": [
           {
            "colorbar": {
             "outlinewidth": 0,
             "ticks": ""
            },
            "colorscale": [
             [
              0,
              "#0d0887"
             ],
             [
              0.1111111111111111,
              "#46039f"
             ],
             [
              0.2222222222222222,
              "#7201a8"
             ],
             [
              0.3333333333333333,
              "#9c179e"
             ],
             [
              0.4444444444444444,
              "#bd3786"
             ],
             [
              0.5555555555555556,
              "#d8576b"
             ],
             [
              0.6666666666666666,
              "#ed7953"
             ],
             [
              0.7777777777777778,
              "#fb9f3a"
             ],
             [
              0.8888888888888888,
              "#fdca26"
             ],
             [
              1,
              "#f0f921"
             ]
            ],
            "type": "contour"
           }
          ],
          "contourcarpet": [
           {
            "colorbar": {
             "outlinewidth": 0,
             "ticks": ""
            },
            "type": "contourcarpet"
           }
          ],
          "heatmap": [
           {
            "colorbar": {
             "outlinewidth": 0,
             "ticks": ""
            },
            "colorscale": [
             [
              0,
              "#0d0887"
             ],
             [
              0.1111111111111111,
              "#46039f"
             ],
             [
              0.2222222222222222,
              "#7201a8"
             ],
             [
              0.3333333333333333,
              "#9c179e"
             ],
             [
              0.4444444444444444,
              "#bd3786"
             ],
             [
              0.5555555555555556,
              "#d8576b"
             ],
             [
              0.6666666666666666,
              "#ed7953"
             ],
             [
              0.7777777777777778,
              "#fb9f3a"
             ],
             [
              0.8888888888888888,
              "#fdca26"
             ],
             [
              1,
              "#f0f921"
             ]
            ],
            "type": "heatmap"
           }
          ],
          "heatmapgl": [
           {
            "colorbar": {
             "outlinewidth": 0,
             "ticks": ""
            },
            "colorscale": [
             [
              0,
              "#0d0887"
             ],
             [
              0.1111111111111111,
              "#46039f"
             ],
             [
              0.2222222222222222,
              "#7201a8"
             ],
             [
              0.3333333333333333,
              "#9c179e"
             ],
             [
              0.4444444444444444,
              "#bd3786"
             ],
             [
              0.5555555555555556,
              "#d8576b"
             ],
             [
              0.6666666666666666,
              "#ed7953"
             ],
             [
              0.7777777777777778,
              "#fb9f3a"
             ],
             [
              0.8888888888888888,
              "#fdca26"
             ],
             [
              1,
              "#f0f921"
             ]
            ],
            "type": "heatmapgl"
           }
          ],
          "histogram": [
           {
            "marker": {
             "pattern": {
              "fillmode": "overlay",
              "size": 10,
              "solidity": 0.2
             }
            },
            "type": "histogram"
           }
          ],
          "histogram2d": [
           {
            "colorbar": {
             "outlinewidth": 0,
             "ticks": ""
            },
            "colorscale": [
             [
              0,
              "#0d0887"
             ],
             [
              0.1111111111111111,
              "#46039f"
             ],
             [
              0.2222222222222222,
              "#7201a8"
             ],
             [
              0.3333333333333333,
              "#9c179e"
             ],
             [
              0.4444444444444444,
              "#bd3786"
             ],
             [
              0.5555555555555556,
              "#d8576b"
             ],
             [
              0.6666666666666666,
              "#ed7953"
             ],
             [
              0.7777777777777778,
              "#fb9f3a"
             ],
             [
              0.8888888888888888,
              "#fdca26"
             ],
             [
              1,
              "#f0f921"
             ]
            ],
            "type": "histogram2d"
           }
          ],
          "histogram2dcontour": [
           {
            "colorbar": {
             "outlinewidth": 0,
             "ticks": ""
            },
            "colorscale": [
             [
              0,
              "#0d0887"
             ],
             [
              0.1111111111111111,
              "#46039f"
             ],
             [
              0.2222222222222222,
              "#7201a8"
             ],
             [
              0.3333333333333333,
              "#9c179e"
             ],
             [
              0.4444444444444444,
              "#bd3786"
             ],
             [
              0.5555555555555556,
              "#d8576b"
             ],
             [
              0.6666666666666666,
              "#ed7953"
             ],
             [
              0.7777777777777778,
              "#fb9f3a"
             ],
             [
              0.8888888888888888,
              "#fdca26"
             ],
             [
              1,
              "#f0f921"
             ]
            ],
            "type": "histogram2dcontour"
           }
          ],
          "mesh3d": [
           {
            "colorbar": {
             "outlinewidth": 0,
             "ticks": ""
            },
            "type": "mesh3d"
           }
          ],
          "parcoords": [
           {
            "line": {
             "colorbar": {
              "outlinewidth": 0,
              "ticks": ""
             }
            },
            "type": "parcoords"
           }
          ],
          "pie": [
           {
            "automargin": true,
            "type": "pie"
           }
          ],
          "scatter": [
           {
            "marker": {
             "colorbar": {
              "outlinewidth": 0,
              "ticks": ""
             }
            },
            "type": "scatter"
           }
          ],
          "scatter3d": [
           {
            "line": {
             "colorbar": {
              "outlinewidth": 0,
              "ticks": ""
             }
            },
            "marker": {
             "colorbar": {
              "outlinewidth": 0,
              "ticks": ""
             }
            },
            "type": "scatter3d"
           }
          ],
          "scattercarpet": [
           {
            "marker": {
             "colorbar": {
              "outlinewidth": 0,
              "ticks": ""
             }
            },
            "type": "scattercarpet"
           }
          ],
          "scattergeo": [
           {
            "marker": {
             "colorbar": {
              "outlinewidth": 0,
              "ticks": ""
             }
            },
            "type": "scattergeo"
           }
          ],
          "scattergl": [
           {
            "marker": {
             "colorbar": {
              "outlinewidth": 0,
              "ticks": ""
             }
            },
            "type": "scattergl"
           }
          ],
          "scattermapbox": [
           {
            "marker": {
             "colorbar": {
              "outlinewidth": 0,
              "ticks": ""
             }
            },
            "type": "scattermapbox"
           }
          ],
          "scatterpolar": [
           {
            "marker": {
             "colorbar": {
              "outlinewidth": 0,
              "ticks": ""
             }
            },
            "type": "scatterpolar"
           }
          ],
          "scatterpolargl": [
           {
            "marker": {
             "colorbar": {
              "outlinewidth": 0,
              "ticks": ""
             }
            },
            "type": "scatterpolargl"
           }
          ],
          "scatterternary": [
           {
            "marker": {
             "colorbar": {
              "outlinewidth": 0,
              "ticks": ""
             }
            },
            "type": "scatterternary"
           }
          ],
          "surface": [
           {
            "colorbar": {
             "outlinewidth": 0,
             "ticks": ""
            },
            "colorscale": [
             [
              0,
              "#0d0887"
             ],
             [
              0.1111111111111111,
              "#46039f"
             ],
             [
              0.2222222222222222,
              "#7201a8"
             ],
             [
              0.3333333333333333,
              "#9c179e"
             ],
             [
              0.4444444444444444,
              "#bd3786"
             ],
             [
              0.5555555555555556,
              "#d8576b"
             ],
             [
              0.6666666666666666,
              "#ed7953"
             ],
             [
              0.7777777777777778,
              "#fb9f3a"
             ],
             [
              0.8888888888888888,
              "#fdca26"
             ],
             [
              1,
              "#f0f921"
             ]
            ],
            "type": "surface"
           }
          ],
          "table": [
           {
            "cells": {
             "fill": {
              "color": "#EBF0F8"
             },
             "line": {
              "color": "white"
             }
            },
            "header": {
             "fill": {
              "color": "#C8D4E3"
             },
             "line": {
              "color": "white"
             }
            },
            "type": "table"
           }
          ]
         },
         "layout": {
          "annotationdefaults": {
           "arrowcolor": "#2a3f5f",
           "arrowhead": 0,
           "arrowwidth": 1
          },
          "autotypenumbers": "strict",
          "coloraxis": {
           "colorbar": {
            "outlinewidth": 0,
            "ticks": ""
           }
          },
          "colorscale": {
           "diverging": [
            [
             0,
             "#8e0152"
            ],
            [
             0.1,
             "#c51b7d"
            ],
            [
             0.2,
             "#de77ae"
            ],
            [
             0.3,
             "#f1b6da"
            ],
            [
             0.4,
             "#fde0ef"
            ],
            [
             0.5,
             "#f7f7f7"
            ],
            [
             0.6,
             "#e6f5d0"
            ],
            [
             0.7,
             "#b8e186"
            ],
            [
             0.8,
             "#7fbc41"
            ],
            [
             0.9,
             "#4d9221"
            ],
            [
             1,
             "#276419"
            ]
           ],
           "sequential": [
            [
             0,
             "#0d0887"
            ],
            [
             0.1111111111111111,
             "#46039f"
            ],
            [
             0.2222222222222222,
             "#7201a8"
            ],
            [
             0.3333333333333333,
             "#9c179e"
            ],
            [
             0.4444444444444444,
             "#bd3786"
            ],
            [
             0.5555555555555556,
             "#d8576b"
            ],
            [
             0.6666666666666666,
             "#ed7953"
            ],
            [
             0.7777777777777778,
             "#fb9f3a"
            ],
            [
             0.8888888888888888,
             "#fdca26"
            ],
            [
             1,
             "#f0f921"
            ]
           ],
           "sequentialminus": [
            [
             0,
             "#0d0887"
            ],
            [
             0.1111111111111111,
             "#46039f"
            ],
            [
             0.2222222222222222,
             "#7201a8"
            ],
            [
             0.3333333333333333,
             "#9c179e"
            ],
            [
             0.4444444444444444,
             "#bd3786"
            ],
            [
             0.5555555555555556,
             "#d8576b"
            ],
            [
             0.6666666666666666,
             "#ed7953"
            ],
            [
             0.7777777777777778,
             "#fb9f3a"
            ],
            [
             0.8888888888888888,
             "#fdca26"
            ],
            [
             1,
             "#f0f921"
            ]
           ]
          },
          "colorway": [
           "#636efa",
           "#EF553B",
           "#00cc96",
           "#ab63fa",
           "#FFA15A",
           "#19d3f3",
           "#FF6692",
           "#B6E880",
           "#FF97FF",
           "#FECB52"
          ],
          "font": {
           "color": "#2a3f5f"
          },
          "geo": {
           "bgcolor": "white",
           "lakecolor": "white",
           "landcolor": "#E5ECF6",
           "showlakes": true,
           "showland": true,
           "subunitcolor": "white"
          },
          "hoverlabel": {
           "align": "left"
          },
          "hovermode": "closest",
          "mapbox": {
           "style": "light"
          },
          "paper_bgcolor": "white",
          "plot_bgcolor": "#E5ECF6",
          "polar": {
           "angularaxis": {
            "gridcolor": "white",
            "linecolor": "white",
            "ticks": ""
           },
           "bgcolor": "#E5ECF6",
           "radialaxis": {
            "gridcolor": "white",
            "linecolor": "white",
            "ticks": ""
           }
          },
          "scene": {
           "xaxis": {
            "backgroundcolor": "#E5ECF6",
            "gridcolor": "white",
            "gridwidth": 2,
            "linecolor": "white",
            "showbackground": true,
            "ticks": "",
            "zerolinecolor": "white"
           },
           "yaxis": {
            "backgroundcolor": "#E5ECF6",
            "gridcolor": "white",
            "gridwidth": 2,
            "linecolor": "white",
            "showbackground": true,
            "ticks": "",
            "zerolinecolor": "white"
           },
           "zaxis": {
            "backgroundcolor": "#E5ECF6",
            "gridcolor": "white",
            "gridwidth": 2,
            "linecolor": "white",
            "showbackground": true,
            "ticks": "",
            "zerolinecolor": "white"
           }
          },
          "shapedefaults": {
           "line": {
            "color": "#2a3f5f"
           }
          },
          "ternary": {
           "aaxis": {
            "gridcolor": "white",
            "linecolor": "white",
            "ticks": ""
           },
           "baxis": {
            "gridcolor": "white",
            "linecolor": "white",
            "ticks": ""
           },
           "bgcolor": "#E5ECF6",
           "caxis": {
            "gridcolor": "white",
            "linecolor": "white",
            "ticks": ""
           }
          },
          "title": {
           "x": 0.05
          },
          "xaxis": {
           "automargin": true,
           "gridcolor": "white",
           "linecolor": "white",
           "ticks": "",
           "title": {
            "standoff": 15
           },
           "zerolinecolor": "white",
           "zerolinewidth": 2
          },
          "yaxis": {
           "automargin": true,
           "gridcolor": "white",
           "linecolor": "white",
           "ticks": "",
           "title": {
            "standoff": 15
           },
           "zerolinecolor": "white",
           "zerolinewidth": 2
          }
         }
        }
       }
      },
      "text/html": [
       "<div>                            <div id=\"5e373749-3fc7-4c7f-86a8-1e48e0842eb4\" class=\"plotly-graph-div\" style=\"height:180px; width:100%;\"></div>            <script type=\"text/javascript\">                require([\"plotly\"], function(Plotly) {                    window.PLOTLYENV=window.PLOTLYENV || {};                                    if (document.getElementById(\"5e373749-3fc7-4c7f-86a8-1e48e0842eb4\")) {                    Plotly.newPlot(                        \"5e373749-3fc7-4c7f-86a8-1e48e0842eb4\",                        [{\"cells\":{\"align\":\"left\",\"fill\":{\"color\":[\"rgb(255,255,255)\",\"rgb(255,255,255)\",[\"#77DD77\",\"#33AF13\",\"#F6D20E\",\"#F17700\",\"#FE6B64\",\"#F12424\"],\"rgb(255,255,255)\"]},\"line\":{\"color\":\"darkslategray\"},\"values\":[[\"0-50\",\"51-100\",\"101-200\",\"201-300\",\"301-400\",\"401-500\"],[\"Good\",\"Satisfactory\",\"Moderate\",\"Poor\",\"Very Poor\",\"Severe\"],[\"\",\"\",\"\",\"\",\"\",\"\"],[\"Minimal impact\",\"Minor breathing discomfort to sensitive people\",\"Breathing discomfort to the people with lungs, asthma and heart diseases\",\"Breathing discomfort to most people on prolonged exposure\",\"Respiratory illness on prolonged exposure\",\"Affects healthy people and seriously impacts those with existing diseases\"]]},\"columnorder\":[1,2,3,4],\"columnwidth\":[50,70,60,400],\"header\":{\"align\":\"left\",\"fill\":{\"color\":\"skyblue\"},\"line\":{\"color\":\"darkslategray\"},\"values\":[\"<b>AQI</b>\",\"<b>Remark</b>\",\"<b>Colour Code</b>\",\"<b>Possible Health Effects</b>\"]},\"type\":\"table\"}],                        {\"height\":180,\"margin\":{\"b\":5,\"l\":5,\"r\":5,\"t\":5},\"paper_bgcolor\":\"LightSteelBlue\",\"template\":{\"data\":{\"bar\":[{\"error_x\":{\"color\":\"#2a3f5f\"},\"error_y\":{\"color\":\"#2a3f5f\"},\"marker\":{\"line\":{\"color\":\"#E5ECF6\",\"width\":0.5},\"pattern\":{\"fillmode\":\"overlay\",\"size\":10,\"solidity\":0.2}},\"type\":\"bar\"}],\"barpolar\":[{\"marker\":{\"line\":{\"color\":\"#E5ECF6\",\"width\":0.5},\"pattern\":{\"fillmode\":\"overlay\",\"size\":10,\"solidity\":0.2}},\"type\":\"barpolar\"}],\"carpet\":[{\"aaxis\":{\"endlinecolor\":\"#2a3f5f\",\"gridcolor\":\"white\",\"linecolor\":\"white\",\"minorgridcolor\":\"white\",\"startlinecolor\":\"#2a3f5f\"},\"baxis\":{\"endlinecolor\":\"#2a3f5f\",\"gridcolor\":\"white\",\"linecolor\":\"white\",\"minorgridcolor\":\"white\",\"startlinecolor\":\"#2a3f5f\"},\"type\":\"carpet\"}],\"choropleth\":[{\"colorbar\":{\"outlinewidth\":0,\"ticks\":\"\"},\"type\":\"choropleth\"}],\"contour\":[{\"colorbar\":{\"outlinewidth\":0,\"ticks\":\"\"},\"colorscale\":[[0.0,\"#0d0887\"],[0.1111111111111111,\"#46039f\"],[0.2222222222222222,\"#7201a8\"],[0.3333333333333333,\"#9c179e\"],[0.4444444444444444,\"#bd3786\"],[0.5555555555555556,\"#d8576b\"],[0.6666666666666666,\"#ed7953\"],[0.7777777777777778,\"#fb9f3a\"],[0.8888888888888888,\"#fdca26\"],[1.0,\"#f0f921\"]],\"type\":\"contour\"}],\"contourcarpet\":[{\"colorbar\":{\"outlinewidth\":0,\"ticks\":\"\"},\"type\":\"contourcarpet\"}],\"heatmap\":[{\"colorbar\":{\"outlinewidth\":0,\"ticks\":\"\"},\"colorscale\":[[0.0,\"#0d0887\"],[0.1111111111111111,\"#46039f\"],[0.2222222222222222,\"#7201a8\"],[0.3333333333333333,\"#9c179e\"],[0.4444444444444444,\"#bd3786\"],[0.5555555555555556,\"#d8576b\"],[0.6666666666666666,\"#ed7953\"],[0.7777777777777778,\"#fb9f3a\"],[0.8888888888888888,\"#fdca26\"],[1.0,\"#f0f921\"]],\"type\":\"heatmap\"}],\"heatmapgl\":[{\"colorbar\":{\"outlinewidth\":0,\"ticks\":\"\"},\"colorscale\":[[0.0,\"#0d0887\"],[0.1111111111111111,\"#46039f\"],[0.2222222222222222,\"#7201a8\"],[0.3333333333333333,\"#9c179e\"],[0.4444444444444444,\"#bd3786\"],[0.5555555555555556,\"#d8576b\"],[0.6666666666666666,\"#ed7953\"],[0.7777777777777778,\"#fb9f3a\"],[0.8888888888888888,\"#fdca26\"],[1.0,\"#f0f921\"]],\"type\":\"heatmapgl\"}],\"histogram\":[{\"marker\":{\"pattern\":{\"fillmode\":\"overlay\",\"size\":10,\"solidity\":0.2}},\"type\":\"histogram\"}],\"histogram2d\":[{\"colorbar\":{\"outlinewidth\":0,\"ticks\":\"\"},\"colorscale\":[[0.0,\"#0d0887\"],[0.1111111111111111,\"#46039f\"],[0.2222222222222222,\"#7201a8\"],[0.3333333333333333,\"#9c179e\"],[0.4444444444444444,\"#bd3786\"],[0.5555555555555556,\"#d8576b\"],[0.6666666666666666,\"#ed7953\"],[0.7777777777777778,\"#fb9f3a\"],[0.8888888888888888,\"#fdca26\"],[1.0,\"#f0f921\"]],\"type\":\"histogram2d\"}],\"histogram2dcontour\":[{\"colorbar\":{\"outlinewidth\":0,\"ticks\":\"\"},\"colorscale\":[[0.0,\"#0d0887\"],[0.1111111111111111,\"#46039f\"],[0.2222222222222222,\"#7201a8\"],[0.3333333333333333,\"#9c179e\"],[0.4444444444444444,\"#bd3786\"],[0.5555555555555556,\"#d8576b\"],[0.6666666666666666,\"#ed7953\"],[0.7777777777777778,\"#fb9f3a\"],[0.8888888888888888,\"#fdca26\"],[1.0,\"#f0f921\"]],\"type\":\"histogram2dcontour\"}],\"mesh3d\":[{\"colorbar\":{\"outlinewidth\":0,\"ticks\":\"\"},\"type\":\"mesh3d\"}],\"parcoords\":[{\"line\":{\"colorbar\":{\"outlinewidth\":0,\"ticks\":\"\"}},\"type\":\"parcoords\"}],\"pie\":[{\"automargin\":true,\"type\":\"pie\"}],\"scatter\":[{\"marker\":{\"colorbar\":{\"outlinewidth\":0,\"ticks\":\"\"}},\"type\":\"scatter\"}],\"scatter3d\":[{\"line\":{\"colorbar\":{\"outlinewidth\":0,\"ticks\":\"\"}},\"marker\":{\"colorbar\":{\"outlinewidth\":0,\"ticks\":\"\"}},\"type\":\"scatter3d\"}],\"scattercarpet\":[{\"marker\":{\"colorbar\":{\"outlinewidth\":0,\"ticks\":\"\"}},\"type\":\"scattercarpet\"}],\"scattergeo\":[{\"marker\":{\"colorbar\":{\"outlinewidth\":0,\"ticks\":\"\"}},\"type\":\"scattergeo\"}],\"scattergl\":[{\"marker\":{\"colorbar\":{\"outlinewidth\":0,\"ticks\":\"\"}},\"type\":\"scattergl\"}],\"scattermapbox\":[{\"marker\":{\"colorbar\":{\"outlinewidth\":0,\"ticks\":\"\"}},\"type\":\"scattermapbox\"}],\"scatterpolar\":[{\"marker\":{\"colorbar\":{\"outlinewidth\":0,\"ticks\":\"\"}},\"type\":\"scatterpolar\"}],\"scatterpolargl\":[{\"marker\":{\"colorbar\":{\"outlinewidth\":0,\"ticks\":\"\"}},\"type\":\"scatterpolargl\"}],\"scatterternary\":[{\"marker\":{\"colorbar\":{\"outlinewidth\":0,\"ticks\":\"\"}},\"type\":\"scatterternary\"}],\"surface\":[{\"colorbar\":{\"outlinewidth\":0,\"ticks\":\"\"},\"colorscale\":[[0.0,\"#0d0887\"],[0.1111111111111111,\"#46039f\"],[0.2222222222222222,\"#7201a8\"],[0.3333333333333333,\"#9c179e\"],[0.4444444444444444,\"#bd3786\"],[0.5555555555555556,\"#d8576b\"],[0.6666666666666666,\"#ed7953\"],[0.7777777777777778,\"#fb9f3a\"],[0.8888888888888888,\"#fdca26\"],[1.0,\"#f0f921\"]],\"type\":\"surface\"}],\"table\":[{\"cells\":{\"fill\":{\"color\":\"#EBF0F8\"},\"line\":{\"color\":\"white\"}},\"header\":{\"fill\":{\"color\":\"#C8D4E3\"},\"line\":{\"color\":\"white\"}},\"type\":\"table\"}]},\"layout\":{\"annotationdefaults\":{\"arrowcolor\":\"#2a3f5f\",\"arrowhead\":0,\"arrowwidth\":1},\"autotypenumbers\":\"strict\",\"coloraxis\":{\"colorbar\":{\"outlinewidth\":0,\"ticks\":\"\"}},\"colorscale\":{\"diverging\":[[0,\"#8e0152\"],[0.1,\"#c51b7d\"],[0.2,\"#de77ae\"],[0.3,\"#f1b6da\"],[0.4,\"#fde0ef\"],[0.5,\"#f7f7f7\"],[0.6,\"#e6f5d0\"],[0.7,\"#b8e186\"],[0.8,\"#7fbc41\"],[0.9,\"#4d9221\"],[1,\"#276419\"]],\"sequential\":[[0.0,\"#0d0887\"],[0.1111111111111111,\"#46039f\"],[0.2222222222222222,\"#7201a8\"],[0.3333333333333333,\"#9c179e\"],[0.4444444444444444,\"#bd3786\"],[0.5555555555555556,\"#d8576b\"],[0.6666666666666666,\"#ed7953\"],[0.7777777777777778,\"#fb9f3a\"],[0.8888888888888888,\"#fdca26\"],[1.0,\"#f0f921\"]],\"sequentialminus\":[[0.0,\"#0d0887\"],[0.1111111111111111,\"#46039f\"],[0.2222222222222222,\"#7201a8\"],[0.3333333333333333,\"#9c179e\"],[0.4444444444444444,\"#bd3786\"],[0.5555555555555556,\"#d8576b\"],[0.6666666666666666,\"#ed7953\"],[0.7777777777777778,\"#fb9f3a\"],[0.8888888888888888,\"#fdca26\"],[1.0,\"#f0f921\"]]},\"colorway\":[\"#636efa\",\"#EF553B\",\"#00cc96\",\"#ab63fa\",\"#FFA15A\",\"#19d3f3\",\"#FF6692\",\"#B6E880\",\"#FF97FF\",\"#FECB52\"],\"font\":{\"color\":\"#2a3f5f\"},\"geo\":{\"bgcolor\":\"white\",\"lakecolor\":\"white\",\"landcolor\":\"#E5ECF6\",\"showlakes\":true,\"showland\":true,\"subunitcolor\":\"white\"},\"hoverlabel\":{\"align\":\"left\"},\"hovermode\":\"closest\",\"mapbox\":{\"style\":\"light\"},\"paper_bgcolor\":\"white\",\"plot_bgcolor\":\"#E5ECF6\",\"polar\":{\"angularaxis\":{\"gridcolor\":\"white\",\"linecolor\":\"white\",\"ticks\":\"\"},\"bgcolor\":\"#E5ECF6\",\"radialaxis\":{\"gridcolor\":\"white\",\"linecolor\":\"white\",\"ticks\":\"\"}},\"scene\":{\"xaxis\":{\"backgroundcolor\":\"#E5ECF6\",\"gridcolor\":\"white\",\"gridwidth\":2,\"linecolor\":\"white\",\"showbackground\":true,\"ticks\":\"\",\"zerolinecolor\":\"white\"},\"yaxis\":{\"backgroundcolor\":\"#E5ECF6\",\"gridcolor\":\"white\",\"gridwidth\":2,\"linecolor\":\"white\",\"showbackground\":true,\"ticks\":\"\",\"zerolinecolor\":\"white\"},\"zaxis\":{\"backgroundcolor\":\"#E5ECF6\",\"gridcolor\":\"white\",\"gridwidth\":2,\"linecolor\":\"white\",\"showbackground\":true,\"ticks\":\"\",\"zerolinecolor\":\"white\"}},\"shapedefaults\":{\"line\":{\"color\":\"#2a3f5f\"}},\"ternary\":{\"aaxis\":{\"gridcolor\":\"white\",\"linecolor\":\"white\",\"ticks\":\"\"},\"baxis\":{\"gridcolor\":\"white\",\"linecolor\":\"white\",\"ticks\":\"\"},\"bgcolor\":\"#E5ECF6\",\"caxis\":{\"gridcolor\":\"white\",\"linecolor\":\"white\",\"ticks\":\"\"}},\"title\":{\"x\":0.05},\"xaxis\":{\"automargin\":true,\"gridcolor\":\"white\",\"linecolor\":\"white\",\"ticks\":\"\",\"title\":{\"standoff\":15},\"zerolinecolor\":\"white\",\"zerolinewidth\":2},\"yaxis\":{\"automargin\":true,\"gridcolor\":\"white\",\"linecolor\":\"white\",\"ticks\":\"\",\"title\":{\"standoff\":15},\"zerolinecolor\":\"white\",\"zerolinewidth\":2}}}},                        {\"responsive\": true}                    ).then(function(){\n",
       "                            \n",
       "var gd = document.getElementById('5e373749-3fc7-4c7f-86a8-1e48e0842eb4');\n",
       "var x = new MutationObserver(function (mutations, observer) {{\n",
       "        var display = window.getComputedStyle(gd).display;\n",
       "        if (!display || display === 'none') {{\n",
       "            console.log([gd, 'removed!']);\n",
       "            Plotly.purge(gd);\n",
       "            observer.disconnect();\n",
       "        }}\n",
       "}});\n",
       "\n",
       "// Listen for the removal of the full notebook cells\n",
       "var notebookContainer = gd.closest('#notebook-container');\n",
       "if (notebookContainer) {{\n",
       "    x.observe(notebookContainer, {childList: true});\n",
       "}}\n",
       "\n",
       "// Listen for the clearing of the current output cell\n",
       "var outputEl = gd.closest('.output');\n",
       "if (outputEl) {{\n",
       "    x.observe(outputEl, {childList: true});\n",
       "}}\n",
       "\n",
       "                        })                };                });            </script>        </div>"
      ]
     },
     "metadata": {},
     "output_type": "display_data"
    }
   ],
   "source": [
    "fig = go.Figure(data=[go.Table(\n",
    "    columnorder = [1,2,3,4],\n",
    "    columnwidth = [50,70,60,400],\n",
    "    \n",
    "    header=dict(values=['<b>AQI</b>', '<b>Remark</b>','<b>Colour Code</b>','<b>Possible Health Effects</b>'],\n",
    "                line_color='darkslategray',\n",
    "                fill_color='skyblue',\n",
    "                align='left'),\n",
    "    cells=dict(values=[['0-50','51-100','101-200','201-300','301-400','401-500'],\n",
    "                       ['Good','Satisfactory','Moderate','Poor','Very Poor','Severe'],\n",
    "                       ['','','','','',''],\n",
    "                       ['Minimal impact','Minor breathing discomfort to sensitive people',\\\n",
    "                       'Breathing discomfort to the people with lungs, asthma and heart diseases',\\\n",
    "                       'Breathing discomfort to most people on prolonged exposure',\\\n",
    "                       'Respiratory illness on prolonged exposure','Affects healthy people and seriously impacts those with existing diseases']],\n",
    "               line_color='darkslategray',\n",
    "               fill_color=['rgb(255,255,255)',\n",
    "                           'rgb(255,255,255)',\n",
    "                            [color for color in colorscale],\n",
    "                           'rgb(255,255,255)'],\n",
    "               align='left'))\n",
    "])\n",
    "\n",
    "fig.update_layout(height=180,paper_bgcolor='LightSteelBlue',margin=dict(l=5,r=5,t=5,b=5))\n",
    "fig.show()"
   ]
  },
  {
   "cell_type": "code",
   "execution_count": 13,
   "id": "a60a8269",
   "metadata": {
    "scrolled": false
   },
   "outputs": [],
   "source": [
    "os.chdir(r'C:\\Users\\shiva\\Desktop\\AQI mp')\n",
    "df_cd = pd.read_csv('city_day.csv')\n",
    "df_ch = pd.read_csv('city_hour.csv')\n",
    "df_sd = pd.read_csv('station_day.csv')\n",
    "df_sh = pd.read_csv('station_hour.csv')\n",
    "df_st = pd.read_csv('stations.csv')"
   ]
  },
  {
   "cell_type": "code",
   "execution_count": 14,
   "id": "93eb0793",
   "metadata": {},
   "outputs": [
    {
     "data": {
      "application/vnd.plotly.v1+json": {
       "config": {
        "plotlyServerURL": "https://plot.ly"
       },
       "data": [
        {
         "marker": {
          "color": "rgb(119, 221, 119)",
          "line": {
           "color": "black",
           "width": 1.5
          }
         },
         "name": "Active",
         "opacity": 0.9,
         "type": "bar",
         "x": [
          "Delhi",
          "Haryana",
          "Maharashtra",
          "Karnataka",
          "West Bengal",
          "Bihar",
          "Telangana",
          "Tamil Nadu",
          "Uttar Pradesh",
          "Rajasthan",
          "Odisha",
          "Andhra Pradesh",
          "Kerala",
          "Assam",
          "Meghalaya",
          "Mizoram",
          "Punjab",
          "Jharkhand",
          "Gujarat",
          "Chandigarh",
          "Madhya Pradesh"
         ],
         "y": [
          37,
          29,
          10,
          10,
          7,
          6,
          6,
          5,
          4,
          3,
          2,
          2,
          2,
          1,
          1,
          1,
          1,
          1,
          1,
          1,
          1
         ]
        },
        {
         "marker": {
          "color": "rgb(119, 158, 203)",
          "line": {
           "color": "black",
           "width": 1.5
          }
         },
         "name": "NA",
         "opacity": 0.9,
         "type": "bar",
         "x": [],
         "y": []
        },
        {
         "marker": {
          "color": "rgb(254, 107, 100)",
          "line": {
           "color": "black",
           "width": 1.5
          }
         },
         "name": "Inactive",
         "opacity": 0.9,
         "type": "bar",
         "x": [
          "Delhi",
          "Uttar Pradesh"
         ],
         "y": [
          1,
          1
         ]
        }
       ],
       "layout": {
        "barmode": "stack",
        "height": 300,
        "hovermode": "x",
        "margin": {
         "b": 20,
         "l": 20,
         "r": 20,
         "t": 40
        },
        "paper_bgcolor": "LightSteelBlue",
        "plot_bgcolor": "lightgray",
        "template": {
         "data": {
          "bar": [
           {
            "error_x": {
             "color": "rgb(51,51,51)"
            },
            "error_y": {
             "color": "rgb(51,51,51)"
            },
            "marker": {
             "line": {
              "color": "rgb(237,237,237)",
              "width": 0.5
             },
             "pattern": {
              "fillmode": "overlay",
              "size": 10,
              "solidity": 0.2
             }
            },
            "type": "bar"
           }
          ],
          "barpolar": [
           {
            "marker": {
             "line": {
              "color": "rgb(237,237,237)",
              "width": 0.5
             },
             "pattern": {
              "fillmode": "overlay",
              "size": 10,
              "solidity": 0.2
             }
            },
            "type": "barpolar"
           }
          ],
          "carpet": [
           {
            "aaxis": {
             "endlinecolor": "rgb(51,51,51)",
             "gridcolor": "white",
             "linecolor": "white",
             "minorgridcolor": "white",
             "startlinecolor": "rgb(51,51,51)"
            },
            "baxis": {
             "endlinecolor": "rgb(51,51,51)",
             "gridcolor": "white",
             "linecolor": "white",
             "minorgridcolor": "white",
             "startlinecolor": "rgb(51,51,51)"
            },
            "type": "carpet"
           }
          ],
          "choropleth": [
           {
            "colorbar": {
             "outlinewidth": 0,
             "tickcolor": "rgb(237,237,237)",
             "ticklen": 6,
             "ticks": "inside"
            },
            "type": "choropleth"
           }
          ],
          "contour": [
           {
            "colorbar": {
             "outlinewidth": 0,
             "tickcolor": "rgb(237,237,237)",
             "ticklen": 6,
             "ticks": "inside"
            },
            "colorscale": [
             [
              0,
              "rgb(20,44,66)"
             ],
             [
              1,
              "rgb(90,179,244)"
             ]
            ],
            "type": "contour"
           }
          ],
          "contourcarpet": [
           {
            "colorbar": {
             "outlinewidth": 0,
             "tickcolor": "rgb(237,237,237)",
             "ticklen": 6,
             "ticks": "inside"
            },
            "type": "contourcarpet"
           }
          ],
          "heatmap": [
           {
            "colorbar": {
             "outlinewidth": 0,
             "tickcolor": "rgb(237,237,237)",
             "ticklen": 6,
             "ticks": "inside"
            },
            "colorscale": [
             [
              0,
              "rgb(20,44,66)"
             ],
             [
              1,
              "rgb(90,179,244)"
             ]
            ],
            "type": "heatmap"
           }
          ],
          "heatmapgl": [
           {
            "colorbar": {
             "outlinewidth": 0,
             "tickcolor": "rgb(237,237,237)",
             "ticklen": 6,
             "ticks": "inside"
            },
            "colorscale": [
             [
              0,
              "rgb(20,44,66)"
             ],
             [
              1,
              "rgb(90,179,244)"
             ]
            ],
            "type": "heatmapgl"
           }
          ],
          "histogram": [
           {
            "marker": {
             "pattern": {
              "fillmode": "overlay",
              "size": 10,
              "solidity": 0.2
             }
            },
            "type": "histogram"
           }
          ],
          "histogram2d": [
           {
            "colorbar": {
             "outlinewidth": 0,
             "tickcolor": "rgb(237,237,237)",
             "ticklen": 6,
             "ticks": "inside"
            },
            "colorscale": [
             [
              0,
              "rgb(20,44,66)"
             ],
             [
              1,
              "rgb(90,179,244)"
             ]
            ],
            "type": "histogram2d"
           }
          ],
          "histogram2dcontour": [
           {
            "colorbar": {
             "outlinewidth": 0,
             "tickcolor": "rgb(237,237,237)",
             "ticklen": 6,
             "ticks": "inside"
            },
            "colorscale": [
             [
              0,
              "rgb(20,44,66)"
             ],
             [
              1,
              "rgb(90,179,244)"
             ]
            ],
            "type": "histogram2dcontour"
           }
          ],
          "mesh3d": [
           {
            "colorbar": {
             "outlinewidth": 0,
             "tickcolor": "rgb(237,237,237)",
             "ticklen": 6,
             "ticks": "inside"
            },
            "type": "mesh3d"
           }
          ],
          "parcoords": [
           {
            "line": {
             "colorbar": {
              "outlinewidth": 0,
              "tickcolor": "rgb(237,237,237)",
              "ticklen": 6,
              "ticks": "inside"
             }
            },
            "type": "parcoords"
           }
          ],
          "pie": [
           {
            "automargin": true,
            "type": "pie"
           }
          ],
          "scatter": [
           {
            "marker": {
             "colorbar": {
              "outlinewidth": 0,
              "tickcolor": "rgb(237,237,237)",
              "ticklen": 6,
              "ticks": "inside"
             }
            },
            "type": "scatter"
           }
          ],
          "scatter3d": [
           {
            "line": {
             "colorbar": {
              "outlinewidth": 0,
              "tickcolor": "rgb(237,237,237)",
              "ticklen": 6,
              "ticks": "inside"
             }
            },
            "marker": {
             "colorbar": {
              "outlinewidth": 0,
              "tickcolor": "rgb(237,237,237)",
              "ticklen": 6,
              "ticks": "inside"
             }
            },
            "type": "scatter3d"
           }
          ],
          "scattercarpet": [
           {
            "marker": {
             "colorbar": {
              "outlinewidth": 0,
              "tickcolor": "rgb(237,237,237)",
              "ticklen": 6,
              "ticks": "inside"
             }
            },
            "type": "scattercarpet"
           }
          ],
          "scattergeo": [
           {
            "marker": {
             "colorbar": {
              "outlinewidth": 0,
              "tickcolor": "rgb(237,237,237)",
              "ticklen": 6,
              "ticks": "inside"
             }
            },
            "type": "scattergeo"
           }
          ],
          "scattergl": [
           {
            "marker": {
             "colorbar": {
              "outlinewidth": 0,
              "tickcolor": "rgb(237,237,237)",
              "ticklen": 6,
              "ticks": "inside"
             }
            },
            "type": "scattergl"
           }
          ],
          "scattermapbox": [
           {
            "marker": {
             "colorbar": {
              "outlinewidth": 0,
              "tickcolor": "rgb(237,237,237)",
              "ticklen": 6,
              "ticks": "inside"
             }
            },
            "type": "scattermapbox"
           }
          ],
          "scatterpolar": [
           {
            "marker": {
             "colorbar": {
              "outlinewidth": 0,
              "tickcolor": "rgb(237,237,237)",
              "ticklen": 6,
              "ticks": "inside"
             }
            },
            "type": "scatterpolar"
           }
          ],
          "scatterpolargl": [
           {
            "marker": {
             "colorbar": {
              "outlinewidth": 0,
              "tickcolor": "rgb(237,237,237)",
              "ticklen": 6,
              "ticks": "inside"
             }
            },
            "type": "scatterpolargl"
           }
          ],
          "scatterternary": [
           {
            "marker": {
             "colorbar": {
              "outlinewidth": 0,
              "tickcolor": "rgb(237,237,237)",
              "ticklen": 6,
              "ticks": "inside"
             }
            },
            "type": "scatterternary"
           }
          ],
          "surface": [
           {
            "colorbar": {
             "outlinewidth": 0,
             "tickcolor": "rgb(237,237,237)",
             "ticklen": 6,
             "ticks": "inside"
            },
            "colorscale": [
             [
              0,
              "rgb(20,44,66)"
             ],
             [
              1,
              "rgb(90,179,244)"
             ]
            ],
            "type": "surface"
           }
          ],
          "table": [
           {
            "cells": {
             "fill": {
              "color": "rgb(237,237,237)"
             },
             "line": {
              "color": "white"
             }
            },
            "header": {
             "fill": {
              "color": "rgb(217,217,217)"
             },
             "line": {
              "color": "white"
             }
            },
            "type": "table"
           }
          ]
         },
         "layout": {
          "annotationdefaults": {
           "arrowhead": 0,
           "arrowwidth": 1
          },
          "autotypenumbers": "strict",
          "coloraxis": {
           "colorbar": {
            "outlinewidth": 0,
            "tickcolor": "rgb(237,237,237)",
            "ticklen": 6,
            "ticks": "inside"
           }
          },
          "colorscale": {
           "sequential": [
            [
             0,
             "rgb(20,44,66)"
            ],
            [
             1,
             "rgb(90,179,244)"
            ]
           ],
           "sequentialminus": [
            [
             0,
             "rgb(20,44,66)"
            ],
            [
             1,
             "rgb(90,179,244)"
            ]
           ]
          },
          "colorway": [
           "#F8766D",
           "#A3A500",
           "#00BF7D",
           "#00B0F6",
           "#E76BF3"
          ],
          "font": {
           "color": "rgb(51,51,51)"
          },
          "geo": {
           "bgcolor": "white",
           "lakecolor": "white",
           "landcolor": "rgb(237,237,237)",
           "showlakes": true,
           "showland": true,
           "subunitcolor": "white"
          },
          "hoverlabel": {
           "align": "left"
          },
          "hovermode": "closest",
          "paper_bgcolor": "white",
          "plot_bgcolor": "rgb(237,237,237)",
          "polar": {
           "angularaxis": {
            "gridcolor": "white",
            "linecolor": "white",
            "showgrid": true,
            "tickcolor": "rgb(51,51,51)",
            "ticks": "outside"
           },
           "bgcolor": "rgb(237,237,237)",
           "radialaxis": {
            "gridcolor": "white",
            "linecolor": "white",
            "showgrid": true,
            "tickcolor": "rgb(51,51,51)",
            "ticks": "outside"
           }
          },
          "scene": {
           "xaxis": {
            "backgroundcolor": "rgb(237,237,237)",
            "gridcolor": "white",
            "gridwidth": 2,
            "linecolor": "white",
            "showbackground": true,
            "showgrid": true,
            "tickcolor": "rgb(51,51,51)",
            "ticks": "outside",
            "zerolinecolor": "white"
           },
           "yaxis": {
            "backgroundcolor": "rgb(237,237,237)",
            "gridcolor": "white",
            "gridwidth": 2,
            "linecolor": "white",
            "showbackground": true,
            "showgrid": true,
            "tickcolor": "rgb(51,51,51)",
            "ticks": "outside",
            "zerolinecolor": "white"
           },
           "zaxis": {
            "backgroundcolor": "rgb(237,237,237)",
            "gridcolor": "white",
            "gridwidth": 2,
            "linecolor": "white",
            "showbackground": true,
            "showgrid": true,
            "tickcolor": "rgb(51,51,51)",
            "ticks": "outside",
            "zerolinecolor": "white"
           }
          },
          "shapedefaults": {
           "fillcolor": "black",
           "line": {
            "width": 0
           },
           "opacity": 0.3
          },
          "ternary": {
           "aaxis": {
            "gridcolor": "white",
            "linecolor": "white",
            "showgrid": true,
            "tickcolor": "rgb(51,51,51)",
            "ticks": "outside"
           },
           "baxis": {
            "gridcolor": "white",
            "linecolor": "white",
            "showgrid": true,
            "tickcolor": "rgb(51,51,51)",
            "ticks": "outside"
           },
           "bgcolor": "rgb(237,237,237)",
           "caxis": {
            "gridcolor": "white",
            "linecolor": "white",
            "showgrid": true,
            "tickcolor": "rgb(51,51,51)",
            "ticks": "outside"
           }
          },
          "xaxis": {
           "automargin": true,
           "gridcolor": "white",
           "linecolor": "white",
           "showgrid": true,
           "tickcolor": "rgb(51,51,51)",
           "ticks": "outside",
           "title": {
            "standoff": 15
           },
           "zerolinecolor": "white"
          },
          "yaxis": {
           "automargin": true,
           "gridcolor": "white",
           "linecolor": "white",
           "showgrid": true,
           "tickcolor": "rgb(51,51,51)",
           "ticks": "outside",
           "title": {
            "standoff": 15
           },
           "zerolinecolor": "white"
          }
         }
        },
        "title": {
         "text": "AQI Stations per State"
        },
        "xaxis": {
         "showgrid": false
        }
       }
      },
      "text/html": [
       "<div>                            <div id=\"dc79f945-b8c4-445f-9240-6c32be36d902\" class=\"plotly-graph-div\" style=\"height:300px; width:100%;\"></div>            <script type=\"text/javascript\">                require([\"plotly\"], function(Plotly) {                    window.PLOTLYENV=window.PLOTLYENV || {};                                    if (document.getElementById(\"dc79f945-b8c4-445f-9240-6c32be36d902\")) {                    Plotly.newPlot(                        \"dc79f945-b8c4-445f-9240-6c32be36d902\",                        [{\"marker\":{\"color\":\"rgb(119, 221, 119)\",\"line\":{\"color\":\"black\",\"width\":1.5}},\"name\":\"Active\",\"opacity\":0.9,\"type\":\"bar\",\"x\":[\"Delhi\",\"Haryana\",\"Maharashtra\",\"Karnataka\",\"West Bengal\",\"Bihar\",\"Telangana\",\"Tamil Nadu\",\"Uttar Pradesh\",\"Rajasthan\",\"Odisha\",\"Andhra Pradesh\",\"Kerala\",\"Assam\",\"Meghalaya\",\"Mizoram\",\"Punjab\",\"Jharkhand\",\"Gujarat\",\"Chandigarh\",\"Madhya Pradesh\"],\"y\":[37,29,10,10,7,6,6,5,4,3,2,2,2,1,1,1,1,1,1,1,1]},{\"marker\":{\"color\":\"rgb(119, 158, 203)\",\"line\":{\"color\":\"black\",\"width\":1.5}},\"name\":\"NA\",\"opacity\":0.9,\"type\":\"bar\",\"x\":[],\"y\":[]},{\"marker\":{\"color\":\"rgb(254, 107, 100)\",\"line\":{\"color\":\"black\",\"width\":1.5}},\"name\":\"Inactive\",\"opacity\":0.9,\"type\":\"bar\",\"x\":[\"Delhi\",\"Uttar Pradesh\"],\"y\":[1,1]}],                        {\"barmode\":\"stack\",\"height\":300,\"hovermode\":\"x\",\"margin\":{\"b\":20,\"l\":20,\"r\":20,\"t\":40},\"paper_bgcolor\":\"LightSteelBlue\",\"plot_bgcolor\":\"lightgray\",\"template\":{\"data\":{\"bar\":[{\"error_x\":{\"color\":\"rgb(51,51,51)\"},\"error_y\":{\"color\":\"rgb(51,51,51)\"},\"marker\":{\"line\":{\"color\":\"rgb(237,237,237)\",\"width\":0.5},\"pattern\":{\"fillmode\":\"overlay\",\"size\":10,\"solidity\":0.2}},\"type\":\"bar\"}],\"barpolar\":[{\"marker\":{\"line\":{\"color\":\"rgb(237,237,237)\",\"width\":0.5},\"pattern\":{\"fillmode\":\"overlay\",\"size\":10,\"solidity\":0.2}},\"type\":\"barpolar\"}],\"carpet\":[{\"aaxis\":{\"endlinecolor\":\"rgb(51,51,51)\",\"gridcolor\":\"white\",\"linecolor\":\"white\",\"minorgridcolor\":\"white\",\"startlinecolor\":\"rgb(51,51,51)\"},\"baxis\":{\"endlinecolor\":\"rgb(51,51,51)\",\"gridcolor\":\"white\",\"linecolor\":\"white\",\"minorgridcolor\":\"white\",\"startlinecolor\":\"rgb(51,51,51)\"},\"type\":\"carpet\"}],\"choropleth\":[{\"colorbar\":{\"outlinewidth\":0,\"tickcolor\":\"rgb(237,237,237)\",\"ticklen\":6,\"ticks\":\"inside\"},\"type\":\"choropleth\"}],\"contour\":[{\"colorbar\":{\"outlinewidth\":0,\"tickcolor\":\"rgb(237,237,237)\",\"ticklen\":6,\"ticks\":\"inside\"},\"colorscale\":[[0,\"rgb(20,44,66)\"],[1,\"rgb(90,179,244)\"]],\"type\":\"contour\"}],\"contourcarpet\":[{\"colorbar\":{\"outlinewidth\":0,\"tickcolor\":\"rgb(237,237,237)\",\"ticklen\":6,\"ticks\":\"inside\"},\"type\":\"contourcarpet\"}],\"heatmap\":[{\"colorbar\":{\"outlinewidth\":0,\"tickcolor\":\"rgb(237,237,237)\",\"ticklen\":6,\"ticks\":\"inside\"},\"colorscale\":[[0,\"rgb(20,44,66)\"],[1,\"rgb(90,179,244)\"]],\"type\":\"heatmap\"}],\"heatmapgl\":[{\"colorbar\":{\"outlinewidth\":0,\"tickcolor\":\"rgb(237,237,237)\",\"ticklen\":6,\"ticks\":\"inside\"},\"colorscale\":[[0,\"rgb(20,44,66)\"],[1,\"rgb(90,179,244)\"]],\"type\":\"heatmapgl\"}],\"histogram\":[{\"marker\":{\"pattern\":{\"fillmode\":\"overlay\",\"size\":10,\"solidity\":0.2}},\"type\":\"histogram\"}],\"histogram2d\":[{\"colorbar\":{\"outlinewidth\":0,\"tickcolor\":\"rgb(237,237,237)\",\"ticklen\":6,\"ticks\":\"inside\"},\"colorscale\":[[0,\"rgb(20,44,66)\"],[1,\"rgb(90,179,244)\"]],\"type\":\"histogram2d\"}],\"histogram2dcontour\":[{\"colorbar\":{\"outlinewidth\":0,\"tickcolor\":\"rgb(237,237,237)\",\"ticklen\":6,\"ticks\":\"inside\"},\"colorscale\":[[0,\"rgb(20,44,66)\"],[1,\"rgb(90,179,244)\"]],\"type\":\"histogram2dcontour\"}],\"mesh3d\":[{\"colorbar\":{\"outlinewidth\":0,\"tickcolor\":\"rgb(237,237,237)\",\"ticklen\":6,\"ticks\":\"inside\"},\"type\":\"mesh3d\"}],\"parcoords\":[{\"line\":{\"colorbar\":{\"outlinewidth\":0,\"tickcolor\":\"rgb(237,237,237)\",\"ticklen\":6,\"ticks\":\"inside\"}},\"type\":\"parcoords\"}],\"pie\":[{\"automargin\":true,\"type\":\"pie\"}],\"scatter\":[{\"marker\":{\"colorbar\":{\"outlinewidth\":0,\"tickcolor\":\"rgb(237,237,237)\",\"ticklen\":6,\"ticks\":\"inside\"}},\"type\":\"scatter\"}],\"scatter3d\":[{\"line\":{\"colorbar\":{\"outlinewidth\":0,\"tickcolor\":\"rgb(237,237,237)\",\"ticklen\":6,\"ticks\":\"inside\"}},\"marker\":{\"colorbar\":{\"outlinewidth\":0,\"tickcolor\":\"rgb(237,237,237)\",\"ticklen\":6,\"ticks\":\"inside\"}},\"type\":\"scatter3d\"}],\"scattercarpet\":[{\"marker\":{\"colorbar\":{\"outlinewidth\":0,\"tickcolor\":\"rgb(237,237,237)\",\"ticklen\":6,\"ticks\":\"inside\"}},\"type\":\"scattercarpet\"}],\"scattergeo\":[{\"marker\":{\"colorbar\":{\"outlinewidth\":0,\"tickcolor\":\"rgb(237,237,237)\",\"ticklen\":6,\"ticks\":\"inside\"}},\"type\":\"scattergeo\"}],\"scattergl\":[{\"marker\":{\"colorbar\":{\"outlinewidth\":0,\"tickcolor\":\"rgb(237,237,237)\",\"ticklen\":6,\"ticks\":\"inside\"}},\"type\":\"scattergl\"}],\"scattermapbox\":[{\"marker\":{\"colorbar\":{\"outlinewidth\":0,\"tickcolor\":\"rgb(237,237,237)\",\"ticklen\":6,\"ticks\":\"inside\"}},\"type\":\"scattermapbox\"}],\"scatterpolar\":[{\"marker\":{\"colorbar\":{\"outlinewidth\":0,\"tickcolor\":\"rgb(237,237,237)\",\"ticklen\":6,\"ticks\":\"inside\"}},\"type\":\"scatterpolar\"}],\"scatterpolargl\":[{\"marker\":{\"colorbar\":{\"outlinewidth\":0,\"tickcolor\":\"rgb(237,237,237)\",\"ticklen\":6,\"ticks\":\"inside\"}},\"type\":\"scatterpolargl\"}],\"scatterternary\":[{\"marker\":{\"colorbar\":{\"outlinewidth\":0,\"tickcolor\":\"rgb(237,237,237)\",\"ticklen\":6,\"ticks\":\"inside\"}},\"type\":\"scatterternary\"}],\"surface\":[{\"colorbar\":{\"outlinewidth\":0,\"tickcolor\":\"rgb(237,237,237)\",\"ticklen\":6,\"ticks\":\"inside\"},\"colorscale\":[[0,\"rgb(20,44,66)\"],[1,\"rgb(90,179,244)\"]],\"type\":\"surface\"}],\"table\":[{\"cells\":{\"fill\":{\"color\":\"rgb(237,237,237)\"},\"line\":{\"color\":\"white\"}},\"header\":{\"fill\":{\"color\":\"rgb(217,217,217)\"},\"line\":{\"color\":\"white\"}},\"type\":\"table\"}]},\"layout\":{\"annotationdefaults\":{\"arrowhead\":0,\"arrowwidth\":1},\"autotypenumbers\":\"strict\",\"coloraxis\":{\"colorbar\":{\"outlinewidth\":0,\"tickcolor\":\"rgb(237,237,237)\",\"ticklen\":6,\"ticks\":\"inside\"}},\"colorscale\":{\"sequential\":[[0,\"rgb(20,44,66)\"],[1,\"rgb(90,179,244)\"]],\"sequentialminus\":[[0,\"rgb(20,44,66)\"],[1,\"rgb(90,179,244)\"]]},\"colorway\":[\"#F8766D\",\"#A3A500\",\"#00BF7D\",\"#00B0F6\",\"#E76BF3\"],\"font\":{\"color\":\"rgb(51,51,51)\"},\"geo\":{\"bgcolor\":\"white\",\"lakecolor\":\"white\",\"landcolor\":\"rgb(237,237,237)\",\"showlakes\":true,\"showland\":true,\"subunitcolor\":\"white\"},\"hoverlabel\":{\"align\":\"left\"},\"hovermode\":\"closest\",\"paper_bgcolor\":\"white\",\"plot_bgcolor\":\"rgb(237,237,237)\",\"polar\":{\"angularaxis\":{\"gridcolor\":\"white\",\"linecolor\":\"white\",\"showgrid\":true,\"tickcolor\":\"rgb(51,51,51)\",\"ticks\":\"outside\"},\"bgcolor\":\"rgb(237,237,237)\",\"radialaxis\":{\"gridcolor\":\"white\",\"linecolor\":\"white\",\"showgrid\":true,\"tickcolor\":\"rgb(51,51,51)\",\"ticks\":\"outside\"}},\"scene\":{\"xaxis\":{\"backgroundcolor\":\"rgb(237,237,237)\",\"gridcolor\":\"white\",\"gridwidth\":2,\"linecolor\":\"white\",\"showbackground\":true,\"showgrid\":true,\"tickcolor\":\"rgb(51,51,51)\",\"ticks\":\"outside\",\"zerolinecolor\":\"white\"},\"yaxis\":{\"backgroundcolor\":\"rgb(237,237,237)\",\"gridcolor\":\"white\",\"gridwidth\":2,\"linecolor\":\"white\",\"showbackground\":true,\"showgrid\":true,\"tickcolor\":\"rgb(51,51,51)\",\"ticks\":\"outside\",\"zerolinecolor\":\"white\"},\"zaxis\":{\"backgroundcolor\":\"rgb(237,237,237)\",\"gridcolor\":\"white\",\"gridwidth\":2,\"linecolor\":\"white\",\"showbackground\":true,\"showgrid\":true,\"tickcolor\":\"rgb(51,51,51)\",\"ticks\":\"outside\",\"zerolinecolor\":\"white\"}},\"shapedefaults\":{\"fillcolor\":\"black\",\"line\":{\"width\":0},\"opacity\":0.3},\"ternary\":{\"aaxis\":{\"gridcolor\":\"white\",\"linecolor\":\"white\",\"showgrid\":true,\"tickcolor\":\"rgb(51,51,51)\",\"ticks\":\"outside\"},\"baxis\":{\"gridcolor\":\"white\",\"linecolor\":\"white\",\"showgrid\":true,\"tickcolor\":\"rgb(51,51,51)\",\"ticks\":\"outside\"},\"bgcolor\":\"rgb(237,237,237)\",\"caxis\":{\"gridcolor\":\"white\",\"linecolor\":\"white\",\"showgrid\":true,\"tickcolor\":\"rgb(51,51,51)\",\"ticks\":\"outside\"}},\"xaxis\":{\"automargin\":true,\"gridcolor\":\"white\",\"linecolor\":\"white\",\"showgrid\":true,\"tickcolor\":\"rgb(51,51,51)\",\"ticks\":\"outside\",\"title\":{\"standoff\":15},\"zerolinecolor\":\"white\"},\"yaxis\":{\"automargin\":true,\"gridcolor\":\"white\",\"linecolor\":\"white\",\"showgrid\":true,\"tickcolor\":\"rgb(51,51,51)\",\"ticks\":\"outside\",\"title\":{\"standoff\":15},\"zerolinecolor\":\"white\"}}},\"title\":{\"text\":\"AQI Stations per State\"},\"xaxis\":{\"showgrid\":false}},                        {\"responsive\": true}                    ).then(function(){\n",
       "                            \n",
       "var gd = document.getElementById('dc79f945-b8c4-445f-9240-6c32be36d902');\n",
       "var x = new MutationObserver(function (mutations, observer) {{\n",
       "        var display = window.getComputedStyle(gd).display;\n",
       "        if (!display || display === 'none') {{\n",
       "            console.log([gd, 'removed!']);\n",
       "            Plotly.purge(gd);\n",
       "            observer.disconnect();\n",
       "        }}\n",
       "}});\n",
       "\n",
       "// Listen for the removal of the full notebook cells\n",
       "var notebookContainer = gd.closest('#notebook-container');\n",
       "if (notebookContainer) {{\n",
       "    x.observe(notebookContainer, {childList: true});\n",
       "}}\n",
       "\n",
       "// Listen for the clearing of the current output cell\n",
       "var outputEl = gd.closest('.output');\n",
       "if (outputEl) {{\n",
       "    x.observe(outputEl, {childList: true});\n",
       "}}\n",
       "\n",
       "                        })                };                });            </script>        </div>"
      ]
     },
     "metadata": {},
     "output_type": "display_data"
    }
   ],
   "source": [
    "group = df_st.groupby(['State','Status'],as_index=False)['StationId'].count()\n",
    "group.sort_values(['StationId'],inplace=True,ascending=False)\n",
    "fig = go.Figure()\n",
    "active = group[group['Status']=='Active']\n",
    "fig.add_trace(go.Bar(x=active.State,y=active.StationId,name='Active',\n",
    "                     marker_color='rgb(119, 221, 119)',\n",
    "                     marker_line_color='black',\n",
    "                     marker_line_width=1.5, \n",
    "                     opacity=0.9\n",
    "                    ))\n",
    "na = group[group['Status']=='NA']\n",
    "fig.add_trace(go.Bar(x=na.State,y=na.StationId,name='NA',\n",
    "                     marker_color='rgb(119, 158, 203)',\n",
    "                     marker_line_color='black',\n",
    "                     marker_line_width=1.5, \n",
    "                     opacity=0.9\n",
    "                    ))\n",
    "inactive = group[group['Status']=='Inactive']\n",
    "fig.add_trace(go.Bar(x=inactive.State,y=inactive.StationId,name='Inactive',\n",
    "                     marker_color='rgb(254, 107, 100)',\n",
    "                     marker_line_color='black',\n",
    "                     marker_line_width=1.5, \n",
    "                     opacity=0.9\n",
    "                    ))\n",
    "fig.update_xaxes(showgrid=False)\n",
    "fig.update_layout(height=300,template='ggplot2',barmode='stack',title='AQI Stations per State',\n",
    "                  hovermode='x',\n",
    "                  paper_bgcolor=BGCOLOR,plot_bgcolor='lightgray',margin=dict(l=20,r=20,t=40,b=20))\n",
    "fig.show()"
   ]
  },
  {
   "cell_type": "code",
   "execution_count": 6,
   "id": "ffb2c365",
   "metadata": {},
   "outputs": [
    {
     "name": "stderr",
     "output_type": "stream",
     "text": [
      "<ipython-input-6-3d415357315a>:5: FutureWarning:\n",
      "\n",
      "Indexing with multiple keys (implicitly converted to a tuple of keys) will be deprecated, use a list instead.\n",
      "\n"
     ]
    }
   ],
   "source": [
    "\n",
    "df_ind = df_sd.copy()\n",
    "df_ind['Date'] = pd.to_datetime(df_ind['Date'],format='%Y-%m-%d')\n",
    "df_ind['Period'] = df_ind.apply(lambda x: 'Before' if (x['Date'] < dt.datetime(2020, 3, 23)) else 'After',axis=1)\n",
    "df_ind = df_ind.query('Date>=\"2020-01-01\"')\n",
    "df_ind = df_ind.groupby(['Period','StationId'],as_index=False)['AQI','PM2.5','PM10','O3','CO','SO2','NO2'].mean()\n",
    "df_ind = df_ind.merge(df_st[['StationId','StationName','State','Latitude','Longitude']],how='inner',on='StationId')\n",
    "\n",
    "def scale(aqiSeries):\n",
    "    cmax = aqiSeries.max()\n",
    "    cmin = aqiSeries.min()\n",
    "    dt = 1e-5\n",
    "    good = min((50-cmin)/(cmax-cmin)+dt,1.0)\n",
    "    satisfactory = min((100-cmin)/(cmax-cmin)+dt,1.0)\n",
    "    moderate = min((200-cmin)/(cmax-cmin)+dt,1.0)\n",
    "    poor = min((300-cmin)/(cmax-cmin)+dt,1.0)\n",
    "    very_poor = min((400-cmin)/(cmax-cmin)+dt,1.0)\n",
    "    severe = min((500-cmin)/(cmax-cmin)+dt,1.0)\n",
    "\n",
    "    colorcode = [good,satisfactory,moderate,poor,very_poor,severe]\n",
    "    colorcode = [0.0 if c<0 else c for c in colorcode]\n",
    "    colors = ['#77DD77','#33AF13','#F6D20E','#F17700','#FE6B64','#F12424']\n",
    "    scl = []\n",
    "    prev = 0\n",
    "    for i in range(len(colorcode)):\n",
    "        scl.extend([[prev,colors[i]],[colorcode[i],colors[i]]])\n",
    "        prev=colorcode[i]\n",
    "        if colorcode[i]==1.0: break\n",
    "    if scl[-1][0]!=1.0:\n",
    "        scl[-1][0]=1.0\n",
    "    \n",
    "    return scl"
   ]
  },
  {
   "cell_type": "markdown",
   "id": "87b54fa5",
   "metadata": {},
   "source": [
    "# Web scraping code (do not run)"
   ]
  },
  {
   "cell_type": "code",
   "execution_count": null,
   "id": "82bf4ab5",
   "metadata": {},
   "outputs": [],
   "source": [
    "from selenium import webdriver\n",
    "from time import sleep\n",
    "import re\n",
    "\n",
    "options = webdriver.ChromeOptions()\n",
    "options.add_argument(\"--start-maximized\")\n",
    "#options.add_argument('user-data-dir=' + r'C:\\Users\\shiva\\Desktop\\AQI mp\\chromedriver.exe')\n",
    "\n",
    "driver = webdriver.Chrome(\n",
    "    executable_path=r'C:\\Users\\shiva\\Desktop\\AQI mp\\chromedriver.exe',\n",
    "    options=options)\n",
    "driver.get('https://www.google.com/search?q=Secretariat, Amaravati - APPCB latitude')\n",
    "text = driver.find_element_by_xpath('//*[@id=\"rso\"]/div[1]/div/div[1]/div[1]/div[1]/div/div[2]/div').text\n",
    "latitude , longitude = re.findall(r\"[-+]?\\d*\\.?\\d+|[-+]?\\d+\",text)"
   ]
  },
  {
   "cell_type": "code",
   "execution_count": null,
   "id": "f2075452",
   "metadata": {},
   "outputs": [],
   "source": [
    "def fill_coordinates(row):\n",
    "    try:\n",
    "        try:\n",
    "            driver.get('https://www.google.com/search?q={} coordinates'.format(row.StationName))\n",
    "            sleep(1)\n",
    "            text = driver.find_element_by_xpath('//*[@id=\"rso\"]/div[1]/div/div[1]/div[1]/div[1]/div/div[2]/div').text\n",
    "        except:\n",
    "            driver.get('https://www.google.com/search?q={} coordinates'.format(row.StationName.split('-')[0]))\n",
    "            sleep(1)\n",
    "            text = driver.find_element_by_xpath('//*[@id=\"rso\"]/div[1]/div/div[1]/div[1]/div[1]/div/div[2]/div').text\n",
    "\n",
    "        row.Latitude, row.Longitude = re.findall(r\"[-+]?\\d*\\.?\\d+|[-+]?\\d+\",text)\n",
    "        print(row.Latitude, row.Longitude)\n",
    "    except:\n",
    "        pass\n",
    "    return row"
   ]
  },
  {
   "cell_type": "code",
   "execution_count": null,
   "id": "e0b3a7e8",
   "metadata": {
    "scrolled": false
   },
   "outputs": [],
   "source": [
    "df_st = df_st.apply(fill_coordinates, axis='columns')\n",
    "df_st.to_csv('stations_updated')"
   ]
  },
  {
   "cell_type": "markdown",
   "id": "3794164b",
   "metadata": {},
   "source": [
    "# plot on map using mapbox"
   ]
  },
  {
   "cell_type": "code",
   "execution_count": 9,
   "id": "465ac28d",
   "metadata": {},
   "outputs": [
    {
     "data": {
      "application/vnd.plotly.v1+json": {
       "config": {
        "plotlyServerURL": "https://plot.ly"
       },
       "data": [
        {
         "hoverinfo": "text",
         "lat": [
          "16.5151",
          "17.72",
          "26.1817",
          "25.5866",
          "25.5925",
          "25.6054",
          "25.6195",
          "25.6036",
          "25.6075",
          "30.7515",
          "28.7972",
          "28.6687",
          "28.6687",
          "28.4707",
          "28.7932",
          "28.5512",
          "28.7496",
          "28.4986",
          "28.571",
          "28.6557",
          "28.5628",
          "28.6826",
          "28.6286",
          "28.6687",
          "28.5803",
          "28.5901",
          "28.6113",
          "28.6364",
          "28.6823",
          "28.6091",
          "28.5702",
          "28.8549",
          "28.5679",
          "28.6574",
          "28.5308",
          "28.6687",
          "28.6687",
          "28.6377",
          "28.5901",
          "28.6687",
          "28.6687",
          "28.6515",
          "28.550425",
          "28.6687",
          "28.5313",
          "28.6687",
          "28.6687",
          "22.959",
          "28.4235",
          "28.4227",
          "28.4275",
          "28.4501",
          "23.7079",
          "12.9135",
          "12.9473",
          "12.9756",
          "12.9781",
          "12.9756",
          "12.9756",
          "12.921",
          "13.0285",
          "12.967507",
          "12.9173",
          "9.9857",
          "9.9694",
          "8.5637",
          "8.5149",
          "19.0596",
          "19.1328",
          "19.1008",
          "18.91",
          "19.0863",
          "19.1176",
          "19.039",
          "19.3832",
          "19.1086",
          "18.9936",
          "25.5586",
          "23.2099",
          "23.7176",
          "21.8005",
          "20.9361",
          "31.62",
          "26.8754",
          "26.9164",
          "26.9798",
          "17.5409",
          "17.4601",
          "17.5111",
          "17.5325",
          "17.457",
          "17.3497",
          "12.9099",
          "13.1779",
          "13.1779",
          "13.0052",
          "10.941234",
          "26.8821",
          "26.8648",
          "26.8459",
          "26.3",
          "22.528",
          "22.5797",
          "22.5566",
          "22.562",
          "22.5895",
          "22.5121",
          "22.5448",
          "28.7285",
          "26.8648"
         ],
         "lon": [
          80.5182,
          83.3,
          91.7806,
          85.0436,
          85.2272,
          85.0891,
          85.1466,
          85.112,
          85.0846,
          76.7629,
          77.1331,
          77.23,
          77.23,
          77.1099,
          77.0483,
          77.2736,
          77.1174,
          77.2648,
          77.0719,
          77.2949,
          77.118,
          77.305,
          77.2411,
          77.23,
          77.2338,
          77.2207,
          77.2377,
          77.2011,
          77.0349,
          77.0325,
          76.9338,
          77.0892,
          77.2505,
          77.1585,
          77.2713,
          77.23,
          77.23,
          77.1571,
          77.2207,
          77.23,
          77.23,
          77.1473,
          77.215935,
          77.23,
          77.1902,
          77.23,
          77.23,
          72.6295,
          77.1489,
          77.0667,
          77.1465,
          77.0263,
          86.4147,
          77.5951,
          77.6983,
          77.6033,
          77.5697,
          77.6033,
          77.6033,
          77.5849,
          77.5197,
          77.70945,
          77.6228,
          76.2813,
          76.3212,
          76.8865,
          76.9436,
          72.8295,
          72.5205,
          72.8746,
          72.82,
          72.8888,
          72.906,
          72.8619,
          72.8204,
          72.8362,
          72.8128,
          91.8985,
          77.4228,
          92.7193,
          83.8397,
          85.1707,
          74.8765,
          75.8167,
          75.8017,
          75.7739,
          78.3585,
          78.3344,
          78.2752,
          78.1849,
          78.4416,
          78.4514,
          80.1077,
          80.2701,
          80.2701,
          80.2398,
          76.97203,
          80.9303,
          81.0048,
          80.9366,
          80.3,
          88.3659,
          88.4143,
          88.3427,
          88.409,
          88.3558,
          88.3637,
          88.3426,
          77.1993,
          81.0048
         ],
         "marker": {
          "color": [
           69.5,
           104.34177215189874,
           254.20731707317074,
           210.625,
           260.5882352941176,
           275.75,
           160.73333333333332,
           178.3125,
           228.320987654321,
           85.67073170731707,
           236.7439024390244,
           277.1625,
           273.4634146341463,
           180.109756097561,
           294.0740740740741,
           254.15853658536585,
           285.08641975308643,
           246.9512195121951,
           294.3048780487805,
           null,
           211.9268292682927,
           226.6829268292683,
           260.6666666666667,
           295.4125,
           245.3658536585366,
           190.5731707317073,
           238.23170731707316,
           223.0506329113924,
           300.55696202531647,
           259,
           227,
           258.1829268292683,
           294.9634146341463,
           209.46913580246914,
           259.7682926829268,
           230.7560975609756,
           289.525,
           252.475,
           169.46341463414635,
           215.1219512195122,
           300.5487804878049,
           228.5121951219512,
           279.6951219512195,
           249.53658536585365,
           223.03658536585365,
           276.5365853658537,
           296.780487804878,
           397.2987012987013,
           203.53658536585365,
           172.1764705882353,
           140.4,
           186.325,
           165.1159420289855,
           68.37037037037037,
           124.36,
           111.08620689655173,
           115.22535211267606,
           97.2,
           104.87654320987654,
           107.12345679012346,
           84.12345679012346,
           67.5625,
           96.9342105263158,
           99.73214285714286,
           127.1864406779661,
           90.30555555555556,
           80.2560975609756,
           124.57142857142857,
           95.26829268292683,
           182.4390243902439,
           145.5121951219512,
           177.09756097560975,
           126.98780487804878,
           183,
           148.84146341463415,
           153.39506172839506,
           157.5,
           77.8840579710145,
           137.5731707317073,
           60.18181818181818,
           139.83582089552237,
           219.25,
           109.13924050632912,
           100.90243902439025,
           135.8658536585366,
           115.47560975609755,
           96.16883116883118,
           86.60975609756098,
           91.325,
           94.07894736842105,
           90.94366197183099,
           114.4927536231884,
           80.86585365853658,
           70.01369863013699,
           113.66233766233766,
           64.17073170731707,
           79.7051282051282,
           180.70731707317074,
           152.875,
           265.5487804878049,
           266.4390243902439,
           220.4390243902439,
           161.9102564102564,
           191.14634146341464,
           156.1341463414634,
           224.74647887323943,
           153.390243902439,
           206.46913580246914,
           null,
           null
          ],
          "colorscale": [
           [
            0,
            "#77DD77"
           ],
           [
            0,
            "#77DD77"
           ],
           [
            0,
            "#33AF13"
           ],
           [
            0.11812387626165344,
            "#33AF13"
           ],
           [
            0.11812387626165344,
            "#F6D20E"
           ],
           [
            0.4147568988365822,
            "#F6D20E"
           ],
           [
            0.4147568988365822,
            "#F17700"
           ],
           [
            0.7113899214115108,
            "#F17700"
           ],
           [
            0.7113899214115108,
            "#FE6B64"
           ],
           [
            1,
            "#FE6B64"
           ]
          ],
          "opacity": 0.7,
          "size": 17
         },
         "mode": "markers",
         "name": "Before Lockdown",
         "subplot": "mapbox",
         "text": [
          "AP001<br><b>Station</b>: Secretariat, Amaravati - APPCB<br><b>AQI</b>: 70.0",
          "AP005<br><b>Station</b>: GVM Corporation, Visakhapatnam - APPCB<br><b>AQI</b>: 104.0",
          "AS001<br><b>Station</b>: Railway Colony, Guwahati - APCB<br><b>AQI</b>: 254.0",
          "BR005<br><b>Station</b>: DRM Office Danapur, Patna - BSPCB<br><b>AQI</b>: 211.0",
          "BR006<br><b>Station</b>: Govt. High School Shikarpur, Patna - BSPCB<br><b>AQI</b>: 261.0",
          "BR007<br><b>Station</b>: IGSC Planetarium Complex, Patna - BSPCB<br><b>AQI</b>: 276.0",
          "BR008<br><b>Station</b>: Muradpur, Patna - BSPCB<br><b>AQI</b>: 161.0",
          "BR009<br><b>Station</b>: Rajbansi Nagar, Patna - BSPCB<br><b>AQI</b>: 178.0",
          "BR010<br><b>Station</b>: Samanpura, Patna - BSPCB<br><b>AQI</b>: 228.0",
          "CH001<br><b>Station</b>: Sector-25, Chandigarh - CPCC<br><b>AQI</b>: 86.0",
          "DL001<br><b>Station</b>: Alipur, Delhi - DPCC<br><b>AQI</b>: 237.0",
          "DL002<br><b>Station</b>: Anand Vihar, Delhi - DPCC<br><b>AQI</b>: 277.0",
          "DL003<br><b>Station</b>: Ashok Vihar, Delhi - DPCC<br><b>AQI</b>: 273.0",
          "DL004<br><b>Station</b>: Aya Nagar, Delhi - IMD<br><b>AQI</b>: 180.0",
          "DL005<br><b>Station</b>: Bawana, Delhi - DPCC<br><b>AQI</b>: 294.0",
          "DL007<br><b>Station</b>: CRRI Mathura Road, Delhi - IMD<br><b>AQI</b>: 254.0",
          "DL008<br><b>Station</b>: DTU, Delhi - CPCB<br><b>AQI</b>: 285.0",
          "DL009<br><b>Station</b>: Dr. Karni Singh Shooting Range, Delhi - DPCC<br><b>AQI</b>: 247.0",
          "DL010<br><b>Station</b>: Dwarka-Sector 8, Delhi - DPCC<br><b>AQI</b>: 294.0",
          "DL011<br><b>Station</b>: East Arjun Nagar, Delhi - CPCB<br><b>AQI</b>: nan",
          "DL012<br><b>Station</b>: IGI Airport (T3), Delhi - IMD<br><b>AQI</b>: 212.0",
          "DL013<br><b>Station</b>: IHBAS, Dilshad Garden, Delhi - CPCB<br><b>AQI</b>: 227.0",
          "DL014<br><b>Station</b>: ITO, Delhi - CPCB<br><b>AQI</b>: 261.0",
          "DL015<br><b>Station</b>: Jahangirpuri, Delhi - DPCC<br><b>AQI</b>: 295.0",
          "DL016<br><b>Station</b>: Jawaharlal Nehru Stadium, Delhi - DPCC<br><b>AQI</b>: 245.0",
          "DL017<br><b>Station</b>: Lodhi Road, Delhi - IMD<br><b>AQI</b>: 191.0",
          "DL018<br><b>Station</b>: Major Dhyan Chand National Stadium, Delhi - DPCC<br><b>AQI</b>: 238.0",
          "DL019<br><b>Station</b>: Mandir Marg, Delhi - DPCC<br><b>AQI</b>: 223.0",
          "DL020<br><b>Station</b>: Mundka, Delhi - DPCC<br><b>AQI</b>: 301.0",
          "DL021<br><b>Station</b>: NSIT Dwarka, Delhi - CPCB<br><b>AQI</b>: 259.0",
          "DL022<br><b>Station</b>: Najafgarh, Delhi - DPCC<br><b>AQI</b>: 227.0",
          "DL023<br><b>Station</b>: Narela, Delhi - DPCC<br><b>AQI</b>: 258.0",
          "DL024<br><b>Station</b>: Nehru Nagar, Delhi - DPCC<br><b>AQI</b>: 295.0",
          "DL025<br><b>Station</b>: North Campus, DU, Delhi - IMD<br><b>AQI</b>: 209.0",
          "DL026<br><b>Station</b>: Okhla Phase-2, Delhi - DPCC<br><b>AQI</b>: 260.0",
          "DL027<br><b>Station</b>: Patparganj, Delhi - DPCC<br><b>AQI</b>: 231.0",
          "DL028<br><b>Station</b>: Punjabi Bagh, Delhi - DPCC<br><b>AQI</b>: 290.0",
          "DL029<br><b>Station</b>: Pusa, Delhi - DPCC<br><b>AQI</b>: 252.0",
          "DL030<br><b>Station</b>: Pusa, Delhi - IMD<br><b>AQI</b>: 169.0",
          "DL031<br><b>Station</b>: R K Puram, Delhi - DPCC<br><b>AQI</b>: 215.0",
          "DL032<br><b>Station</b>: Rohini, Delhi - DPCC<br><b>AQI</b>: 301.0",
          "DL033<br><b>Station</b>: Shadipur, Delhi - CPCB<br><b>AQI</b>: 229.0",
          "DL034<br><b>Station</b>: Sirifort, Delhi - CPCB<br><b>AQI</b>: 280.0",
          "DL035<br><b>Station</b>: Sonia Vihar, Delhi - DPCC<br><b>AQI</b>: 250.0",
          "DL036<br><b>Station</b>: Sri Aurobindo Marg, Delhi - DPCC<br><b>AQI</b>: 223.0",
          "DL037<br><b>Station</b>: Vivek Vihar, Delhi - DPCC<br><b>AQI</b>: 277.0",
          "DL038<br><b>Station</b>: Wazirpur, Delhi - DPCC<br><b>AQI</b>: 297.0",
          "GJ001<br><b>Station</b>: Maninagar, Ahmedabad - GPCB<br><b>AQI</b>: 397.0",
          "HR011<br><b>Station</b>: NISE Gwal Pahari, Gurugram - IMD<br><b>AQI</b>: 204.0",
          "HR012<br><b>Station</b>: Sector-51, Gurugram - HSPCB<br><b>AQI</b>: 172.0",
          "HR013<br><b>Station</b>: Teri Gram, Gurugram - HSPCB<br><b>AQI</b>: 140.0",
          "HR014<br><b>Station</b>: Vikas Sadan, Gurugram - HSPCB<br><b>AQI</b>: 186.0",
          "JH001<br><b>Station</b>: Tata Stadium, Jorapokhar - JSPCB<br><b>AQI</b>: 165.0",
          "KA002<br><b>Station</b>: BTM Layout, Bengaluru - CPCB<br><b>AQI</b>: 68.0",
          "KA003<br><b>Station</b>: BWSSB Kadabesanahalli, Bengaluru - CPCB<br><b>AQI</b>: 124.0",
          "KA004<br><b>Station</b>: Bapuji Nagar, Bengaluru - KSPCB<br><b>AQI</b>: 111.0",
          "KA005<br><b>Station</b>: City Railway Station, Bengaluru - KSPCB<br><b>AQI</b>: 115.0",
          "KA006<br><b>Station</b>: Hebbal, Bengaluru - KSPCB<br><b>AQI</b>: 97.0",
          "KA007<br><b>Station</b>: Hombegowda Nagar, Bengaluru - KSPCB<br><b>AQI</b>: 105.0",
          "KA008<br><b>Station</b>: Jayanagar 5th Block, Bengaluru - KSPCB<br><b>AQI</b>: 107.0",
          "KA009<br><b>Station</b>: Peenya, Bengaluru - CPCB<br><b>AQI</b>: 84.0",
          "KA010<br><b>Station</b>: Sanegurava Halli, Bengaluru - KSPCB<br><b>AQI</b>: 68.0",
          "KA011<br><b>Station</b>: Silk Board, Bengaluru - KSPCB<br><b>AQI</b>: 97.0",
          "KL002<br><b>Station</b>: Kacheripady, Ernakulam - Kerala PCB<br><b>AQI</b>: 100.0",
          "KL004<br><b>Station</b>: Vyttila, Kochi - Kerala PCB<br><b>AQI</b>: 127.0",
          "KL007<br><b>Station</b>: Kariavattom, Thiruvananthapuram - Kerala PCB<br><b>AQI</b>: 90.0",
          "KL008<br><b>Station</b>: Plammoodu, Thiruvananthapuram - Kerala PCB<br><b>AQI</b>: 80.0",
          "MH005<br><b>Station</b>: Bandra, Mumbai - MPCB<br><b>AQI</b>: 125.0",
          "MH006<br><b>Station</b>: Borivali East, Mumbai - MPCB<br><b>AQI</b>: 95.0",
          "MH007<br><b>Station</b>: Chhatrapati Shivaji Intl. Airport (T2), Mumbai - MPCB<br><b>AQI</b>: 182.0",
          "MH008<br><b>Station</b>: Colaba, Mumbai - MPCB<br><b>AQI</b>: 146.0",
          "MH009<br><b>Station</b>: Kurla, Mumbai - MPCB<br><b>AQI</b>: 177.0",
          "MH010<br><b>Station</b>: Powai, Mumbai - MPCB<br><b>AQI</b>: 127.0",
          "MH011<br><b>Station</b>: Sion, Mumbai - MPCB<br><b>AQI</b>: 183.0",
          "MH012<br><b>Station</b>: Vasai West, Mumbai - MPCB<br><b>AQI</b>: 149.0",
          "MH013<br><b>Station</b>: Vile Parle West, Mumbai - MPCB<br><b>AQI</b>: 153.0",
          "MH014<br><b>Station</b>: Worli, Mumbai - MPCB<br><b>AQI</b>: 158.0",
          "ML001<br><b>Station</b>: Lumpyngngad, Shillong - Meghalaya PCB<br><b>AQI</b>: 78.0",
          "MP001<br><b>Station</b>: T T Nagar, Bhopal - MPPCB<br><b>AQI</b>: 138.0",
          "MZ001<br><b>Station</b>: Sikulpuikawn, Aizawl - Mizoram PCB<br><b>AQI</b>: 60.0",
          "OD001<br><b>Station</b>: GM Office, Brajrajnagar - OSPCB<br><b>AQI</b>: 140.0",
          "OD002<br><b>Station</b>: Talcher Coalfields,Talcher - OSPCB<br><b>AQI</b>: 219.0",
          "PB001<br><b>Station</b>: Golden Temple, Amritsar - PPCB<br><b>AQI</b>: 109.0",
          "RJ004<br><b>Station</b>: Adarsh Nagar, Jaipur - RSPCB<br><b>AQI</b>: 101.0",
          "RJ005<br><b>Station</b>: Police Commissionerate, Jaipur - RSPCB<br><b>AQI</b>: 136.0",
          "RJ006<br><b>Station</b>: Shastri Nagar, Jaipur - RSPCB<br><b>AQI</b>: 115.0",
          "TG001<br><b>Station</b>: Bollaram Industrial Area, Hyderabad - TSPCB<br><b>AQI</b>: 96.0",
          "TG002<br><b>Station</b>: Central University, Hyderabad - TSPCB<br><b>AQI</b>: 87.0",
          "TG003<br><b>Station</b>: ICRISAT Patancheru, Hyderabad - TSPCB<br><b>AQI</b>: 91.0",
          "TG004<br><b>Station</b>: IDA Pashamylaram, Hyderabad - TSPCB<br><b>AQI</b>: 94.0",
          "TG005<br><b>Station</b>: Sanathnagar, Hyderabad - TSPCB<br><b>AQI</b>: 91.0",
          "TG006<br><b>Station</b>: Zoo Park, Hyderabad - TSPCB<br><b>AQI</b>: 114.0",
          "TN001<br><b>Station</b>: Alandur Bus Depot, Chennai - CPCB<br><b>AQI</b>: 81.0",
          "TN002<br><b>Station</b>: Manali Village, Chennai - TNPCB<br><b>AQI</b>: 70.0",
          "TN003<br><b>Station</b>: Manali, Chennai - CPCB<br><b>AQI</b>: 114.0",
          "TN004<br><b>Station</b>: Velachery Res. Area, Chennai - CPCB<br><b>AQI</b>: 64.0",
          "TN005<br><b>Station</b>: SIDCO Kurichi, Coimbatore - TNPCB<br><b>AQI</b>: 80.0",
          "UP012<br><b>Station</b>: Central School, Lucknow - CPCB<br><b>AQI</b>: 181.0",
          "UP013<br><b>Station</b>: Gomti Nagar, Lucknow - UPPCB<br><b>AQI</b>: 153.0",
          "UP014<br><b>Station</b>: Lalbagh, Lucknow - CPCB<br><b>AQI</b>: 266.0",
          "UP016<br><b>Station</b>: Talkatora District Industries Center, Lucknow - CPCB<br><b>AQI</b>: 266.0",
          "WB007<br><b>Station</b>: Ballygunge, Kolkata - WBPCB<br><b>AQI</b>: 220.0",
          "WB008<br><b>Station</b>: Bidhannagar, Kolkata - WBPCB<br><b>AQI</b>: 162.0",
          "WB009<br><b>Station</b>: Fort William, Kolkata - WBPCB<br><b>AQI</b>: 191.0",
          "WB010<br><b>Station</b>: Jadavpur, Kolkata - WBPCB<br><b>AQI</b>: 156.0",
          "WB011<br><b>Station</b>: Rabindra Bharati University, Kolkata - WBPCB<br><b>AQI</b>: 225.0",
          "WB012<br><b>Station</b>: Rabindra Sarobar, Kolkata - WBPCB<br><b>AQI</b>: 153.0",
          "WB013<br><b>Station</b>: Victoria, Kolkata - WBPCB<br><b>AQI</b>: 206.0",
          "DL006<br><b>Station</b>: Burari Crossing, Delhi - IMD<br><b>AQI</b>: nan",
          "UP015<br><b>Station</b>: Nishant Ganj, Lucknow - UPPCB<br><b>AQI</b>: nan"
         ],
         "type": "scattermapbox"
        },
        {
         "hoverinfo": "text",
         "lat": [
          "16.5151",
          "17.72",
          "26.1817",
          "25.5866",
          "25.5925",
          "25.6054",
          "25.6195",
          "25.6036",
          "25.6075",
          "30.7515",
          "28.7972",
          "28.6687",
          "28.6687",
          "28.4707",
          "28.7932",
          "28.5512",
          "28.7496",
          "28.4986",
          "28.571",
          "28.6557",
          "28.5628",
          "28.6826",
          "28.6286",
          "28.6687",
          "28.5803",
          "28.5901",
          "28.6113",
          "28.6364",
          "28.6823",
          "28.6091",
          "28.5702",
          "28.8549",
          "28.5679",
          "28.6574",
          "28.5308",
          "28.6687",
          "28.6687",
          "28.6377",
          "28.5901",
          "28.6687",
          "28.6687",
          "28.6515",
          "28.550425",
          "28.6687",
          "28.5313",
          "28.6687",
          "28.6687",
          "22.959",
          "28.4235",
          "28.4227",
          "28.4275",
          "28.4501",
          "23.7079",
          "12.9135",
          "12.9473",
          "12.9756",
          "12.9781",
          "12.9756",
          "12.9756",
          "12.921",
          "13.0285",
          "12.967507",
          "12.9173",
          "9.9857",
          "9.9694",
          "8.5637",
          "8.5149",
          "19.0596",
          "19.1328",
          "19.1008",
          "18.91",
          "19.0863",
          "19.1176",
          "19.039",
          "19.3832",
          "19.1086",
          "18.9936",
          "25.5586",
          "23.2099",
          "23.7176",
          "21.8005",
          "20.9361",
          "31.62",
          "26.8754",
          "26.9164",
          "26.9798",
          "17.5409",
          "17.4601",
          "17.5111",
          "17.5325",
          "17.457",
          "17.3497",
          "12.9099",
          "13.1779",
          "13.1779",
          "13.0052",
          "10.941234",
          "26.8821",
          "26.8648",
          "26.8459",
          "26.3",
          "22.528",
          "22.5797",
          "22.5566",
          "22.562",
          "22.5895",
          "22.5121",
          "22.5448"
         ],
         "lon": [
          80.5182,
          83.3,
          91.7806,
          85.0436,
          85.2272,
          85.0891,
          85.1466,
          85.112,
          85.0846,
          76.7629,
          77.1331,
          77.23,
          77.23,
          77.1099,
          77.0483,
          77.2736,
          77.1174,
          77.2648,
          77.0719,
          77.2949,
          77.118,
          77.305,
          77.2411,
          77.23,
          77.2338,
          77.2207,
          77.2377,
          77.2011,
          77.0349,
          77.0325,
          76.9338,
          77.0892,
          77.2505,
          77.1585,
          77.2713,
          77.23,
          77.23,
          77.1571,
          77.2207,
          77.23,
          77.23,
          77.1473,
          77.215935,
          77.23,
          77.1902,
          77.23,
          77.23,
          72.6295,
          77.1489,
          77.0667,
          77.1465,
          77.0263,
          86.4147,
          77.5951,
          77.6983,
          77.6033,
          77.5697,
          77.6033,
          77.6033,
          77.5849,
          77.5197,
          77.70945,
          77.6228,
          76.2813,
          76.3212,
          76.8865,
          76.9436,
          72.8295,
          72.5205,
          72.8746,
          72.82,
          72.8888,
          72.906,
          72.8619,
          72.8204,
          72.8362,
          72.8128,
          91.8985,
          77.4228,
          92.7193,
          83.8397,
          85.1707,
          74.8765,
          75.8167,
          75.8017,
          75.7739,
          78.3585,
          78.3344,
          78.2752,
          78.1849,
          78.4416,
          78.4514,
          80.1077,
          80.2701,
          80.2701,
          80.2398,
          76.97203,
          80.9303,
          81.0048,
          80.9366,
          80.3,
          88.3659,
          88.4143,
          88.3427,
          88.409,
          88.3558,
          88.3637,
          88.3426
         ],
         "marker": {
          "color": [
           52.06930693069307,
           69,
           86.24752475247524,
           87.49019607843137,
           115.01052631578948,
           127.48275862068965,
           91.64,
           92.89,
           175.61,
           59.69,
           129.02020202020202,
           157.51388888888889,
           107.63366336633663,
           99.83673469387755,
           164.33333333333334,
           114.57425742574257,
           159.01020408163265,
           155.66336633663366,
           134.0891089108911,
           null,
           98.5959595959596,
           93.17821782178218,
           157.03191489361703,
           129.3,
           123.16831683168317,
           134.39080459770116,
           120.54,
           91.89583333333333,
           147.55208333333334,
           123.33333333333333,
           128.375,
           157.48192771084337,
           149.34653465346534,
           103.8019801980198,
           109.4950495049505,
           89.14141414141415,
           148.75,
           117.20588235294117,
           123.73214285714286,
           101.36633663366337,
           138,
           88.66336633663366,
           143.9009900990099,
           124.52577319587628,
           119.16326530612245,
           121.70297029702971,
           124.80412371134021,
           121.33333333333333,
           103.61386138613861,
           150.98019801980197,
           111.54455445544555,
           139.08247422680412,
           130.66666666666666,
           73.41584158415841,
           108.6231884057971,
           67,
           83.76271186440678,
           55.739583333333336,
           61.13095238095238,
           52.91860465116279,
           63.83695652173913,
           54.9125,
           57.1578947368421,
           88.10309278350516,
           90.63636363636364,
           57.77272727272727,
           51.410526315789475,
           66.93103448275862,
           62.5,
           75.65306122448979,
           52.65882352941176,
           78.91,
           53.28865979381443,
           69.67,
           70.34848484848484,
           51.225352112676056,
           55.45161290322581,
           39.06849315068493,
           94.18681318681318,
           31.97,
           133.72222222222223,
           110.5,
           79.53684210526316,
           91.27722772277228,
           97.0909090909091,
           98.70297029702971,
           67.37113402061856,
           61.64646464646464,
           59.99,
           68.32673267326733,
           57.074074074074076,
           67.51648351648352,
           72.5049504950495,
           110.75280898876404,
           80.5049504950495,
           59.71,
           56.69230769230769,
           83.2871287128713,
           66.49462365591398,
           130.02970297029702,
           143.1980198019802,
           59.95,
           60.04123711340206,
           58.77,
           55.306930693069305,
           72.91358024691358,
           55.60606060606061,
           65.74157303370787
          ],
          "colorscale": [
           [
            0,
            "#77DD77"
           ],
           [
            0.12553213868003343,
            "#77DD77"
           ],
           [
            0.12553213868003343,
            "#33AF13"
           ],
           [
            0.4736245920356446,
            "#33AF13"
           ],
           [
            0.4736245920356446,
            "#F6D20E"
           ],
           [
            1,
            "#F6D20E"
           ]
          ],
          "opacity": 0.7,
          "size": 17
         },
         "mode": "markers",
         "name": "After Lockdown",
         "subplot": "mapbox2",
         "text": [
          "AP001<br><b>Station</b>: Secretariat, Amaravati - APPCB<br><b>AQI</b>: 52.0",
          "AP005<br><b>Station</b>: GVM Corporation, Visakhapatnam - APPCB<br><b>AQI</b>: 69.0",
          "AS001<br><b>Station</b>: Railway Colony, Guwahati - APCB<br><b>AQI</b>: 86.0",
          "BR005<br><b>Station</b>: DRM Office Danapur, Patna - BSPCB<br><b>AQI</b>: 87.0",
          "BR006<br><b>Station</b>: Govt. High School Shikarpur, Patna - BSPCB<br><b>AQI</b>: 115.0",
          "BR007<br><b>Station</b>: IGSC Planetarium Complex, Patna - BSPCB<br><b>AQI</b>: 127.0",
          "BR008<br><b>Station</b>: Muradpur, Patna - BSPCB<br><b>AQI</b>: 92.0",
          "BR009<br><b>Station</b>: Rajbansi Nagar, Patna - BSPCB<br><b>AQI</b>: 93.0",
          "BR010<br><b>Station</b>: Samanpura, Patna - BSPCB<br><b>AQI</b>: 176.0",
          "CH001<br><b>Station</b>: Sector-25, Chandigarh - CPCC<br><b>AQI</b>: 60.0",
          "DL001<br><b>Station</b>: Alipur, Delhi - DPCC<br><b>AQI</b>: 129.0",
          "DL002<br><b>Station</b>: Anand Vihar, Delhi - DPCC<br><b>AQI</b>: 158.0",
          "DL003<br><b>Station</b>: Ashok Vihar, Delhi - DPCC<br><b>AQI</b>: 108.0",
          "DL004<br><b>Station</b>: Aya Nagar, Delhi - IMD<br><b>AQI</b>: 100.0",
          "DL005<br><b>Station</b>: Bawana, Delhi - DPCC<br><b>AQI</b>: 164.0",
          "DL007<br><b>Station</b>: CRRI Mathura Road, Delhi - IMD<br><b>AQI</b>: 115.0",
          "DL008<br><b>Station</b>: DTU, Delhi - CPCB<br><b>AQI</b>: 159.0",
          "DL009<br><b>Station</b>: Dr. Karni Singh Shooting Range, Delhi - DPCC<br><b>AQI</b>: 156.0",
          "DL010<br><b>Station</b>: Dwarka-Sector 8, Delhi - DPCC<br><b>AQI</b>: 134.0",
          "DL011<br><b>Station</b>: East Arjun Nagar, Delhi - CPCB<br><b>AQI</b>: nan",
          "DL012<br><b>Station</b>: IGI Airport (T3), Delhi - IMD<br><b>AQI</b>: 99.0",
          "DL013<br><b>Station</b>: IHBAS, Dilshad Garden, Delhi - CPCB<br><b>AQI</b>: 93.0",
          "DL014<br><b>Station</b>: ITO, Delhi - CPCB<br><b>AQI</b>: 157.0",
          "DL015<br><b>Station</b>: Jahangirpuri, Delhi - DPCC<br><b>AQI</b>: 129.0",
          "DL016<br><b>Station</b>: Jawaharlal Nehru Stadium, Delhi - DPCC<br><b>AQI</b>: 123.0",
          "DL017<br><b>Station</b>: Lodhi Road, Delhi - IMD<br><b>AQI</b>: 134.0",
          "DL018<br><b>Station</b>: Major Dhyan Chand National Stadium, Delhi - DPCC<br><b>AQI</b>: 121.0",
          "DL019<br><b>Station</b>: Mandir Marg, Delhi - DPCC<br><b>AQI</b>: 92.0",
          "DL020<br><b>Station</b>: Mundka, Delhi - DPCC<br><b>AQI</b>: 148.0",
          "DL021<br><b>Station</b>: NSIT Dwarka, Delhi - CPCB<br><b>AQI</b>: 123.0",
          "DL022<br><b>Station</b>: Najafgarh, Delhi - DPCC<br><b>AQI</b>: 128.0",
          "DL023<br><b>Station</b>: Narela, Delhi - DPCC<br><b>AQI</b>: 157.0",
          "DL024<br><b>Station</b>: Nehru Nagar, Delhi - DPCC<br><b>AQI</b>: 149.0",
          "DL025<br><b>Station</b>: North Campus, DU, Delhi - IMD<br><b>AQI</b>: 104.0",
          "DL026<br><b>Station</b>: Okhla Phase-2, Delhi - DPCC<br><b>AQI</b>: 109.0",
          "DL027<br><b>Station</b>: Patparganj, Delhi - DPCC<br><b>AQI</b>: 89.0",
          "DL028<br><b>Station</b>: Punjabi Bagh, Delhi - DPCC<br><b>AQI</b>: 149.0",
          "DL029<br><b>Station</b>: Pusa, Delhi - DPCC<br><b>AQI</b>: 117.0",
          "DL030<br><b>Station</b>: Pusa, Delhi - IMD<br><b>AQI</b>: 124.0",
          "DL031<br><b>Station</b>: R K Puram, Delhi - DPCC<br><b>AQI</b>: 101.0",
          "DL032<br><b>Station</b>: Rohini, Delhi - DPCC<br><b>AQI</b>: 138.0",
          "DL033<br><b>Station</b>: Shadipur, Delhi - CPCB<br><b>AQI</b>: 89.0",
          "DL034<br><b>Station</b>: Sirifort, Delhi - CPCB<br><b>AQI</b>: 144.0",
          "DL035<br><b>Station</b>: Sonia Vihar, Delhi - DPCC<br><b>AQI</b>: 125.0",
          "DL036<br><b>Station</b>: Sri Aurobindo Marg, Delhi - DPCC<br><b>AQI</b>: 119.0",
          "DL037<br><b>Station</b>: Vivek Vihar, Delhi - DPCC<br><b>AQI</b>: 122.0",
          "DL038<br><b>Station</b>: Wazirpur, Delhi - DPCC<br><b>AQI</b>: 125.0",
          "GJ001<br><b>Station</b>: Maninagar, Ahmedabad - GPCB<br><b>AQI</b>: 121.0",
          "HR011<br><b>Station</b>: NISE Gwal Pahari, Gurugram - IMD<br><b>AQI</b>: 104.0",
          "HR012<br><b>Station</b>: Sector-51, Gurugram - HSPCB<br><b>AQI</b>: 151.0",
          "HR013<br><b>Station</b>: Teri Gram, Gurugram - HSPCB<br><b>AQI</b>: 112.0",
          "HR014<br><b>Station</b>: Vikas Sadan, Gurugram - HSPCB<br><b>AQI</b>: 139.0",
          "JH001<br><b>Station</b>: Tata Stadium, Jorapokhar - JSPCB<br><b>AQI</b>: 131.0",
          "KA002<br><b>Station</b>: BTM Layout, Bengaluru - CPCB<br><b>AQI</b>: 73.0",
          "KA003<br><b>Station</b>: BWSSB Kadabesanahalli, Bengaluru - CPCB<br><b>AQI</b>: 109.0",
          "KA004<br><b>Station</b>: Bapuji Nagar, Bengaluru - KSPCB<br><b>AQI</b>: 67.0",
          "KA005<br><b>Station</b>: City Railway Station, Bengaluru - KSPCB<br><b>AQI</b>: 84.0",
          "KA006<br><b>Station</b>: Hebbal, Bengaluru - KSPCB<br><b>AQI</b>: 56.0",
          "KA007<br><b>Station</b>: Hombegowda Nagar, Bengaluru - KSPCB<br><b>AQI</b>: 61.0",
          "KA008<br><b>Station</b>: Jayanagar 5th Block, Bengaluru - KSPCB<br><b>AQI</b>: 53.0",
          "KA009<br><b>Station</b>: Peenya, Bengaluru - CPCB<br><b>AQI</b>: 64.0",
          "KA010<br><b>Station</b>: Sanegurava Halli, Bengaluru - KSPCB<br><b>AQI</b>: 55.0",
          "KA011<br><b>Station</b>: Silk Board, Bengaluru - KSPCB<br><b>AQI</b>: 57.0",
          "KL002<br><b>Station</b>: Kacheripady, Ernakulam - Kerala PCB<br><b>AQI</b>: 88.0",
          "KL004<br><b>Station</b>: Vyttila, Kochi - Kerala PCB<br><b>AQI</b>: 91.0",
          "KL007<br><b>Station</b>: Kariavattom, Thiruvananthapuram - Kerala PCB<br><b>AQI</b>: 58.0",
          "KL008<br><b>Station</b>: Plammoodu, Thiruvananthapuram - Kerala PCB<br><b>AQI</b>: 51.0",
          "MH005<br><b>Station</b>: Bandra, Mumbai - MPCB<br><b>AQI</b>: 67.0",
          "MH006<br><b>Station</b>: Borivali East, Mumbai - MPCB<br><b>AQI</b>: 62.0",
          "MH007<br><b>Station</b>: Chhatrapati Shivaji Intl. Airport (T2), Mumbai - MPCB<br><b>AQI</b>: 76.0",
          "MH008<br><b>Station</b>: Colaba, Mumbai - MPCB<br><b>AQI</b>: 53.0",
          "MH009<br><b>Station</b>: Kurla, Mumbai - MPCB<br><b>AQI</b>: 79.0",
          "MH010<br><b>Station</b>: Powai, Mumbai - MPCB<br><b>AQI</b>: 53.0",
          "MH011<br><b>Station</b>: Sion, Mumbai - MPCB<br><b>AQI</b>: 70.0",
          "MH012<br><b>Station</b>: Vasai West, Mumbai - MPCB<br><b>AQI</b>: 70.0",
          "MH013<br><b>Station</b>: Vile Parle West, Mumbai - MPCB<br><b>AQI</b>: 51.0",
          "MH014<br><b>Station</b>: Worli, Mumbai - MPCB<br><b>AQI</b>: 55.0",
          "ML001<br><b>Station</b>: Lumpyngngad, Shillong - Meghalaya PCB<br><b>AQI</b>: 39.0",
          "MP001<br><b>Station</b>: T T Nagar, Bhopal - MPPCB<br><b>AQI</b>: 94.0",
          "MZ001<br><b>Station</b>: Sikulpuikawn, Aizawl - Mizoram PCB<br><b>AQI</b>: 32.0",
          "OD001<br><b>Station</b>: GM Office, Brajrajnagar - OSPCB<br><b>AQI</b>: 134.0",
          "OD002<br><b>Station</b>: Talcher Coalfields,Talcher - OSPCB<br><b>AQI</b>: 110.0",
          "PB001<br><b>Station</b>: Golden Temple, Amritsar - PPCB<br><b>AQI</b>: 80.0",
          "RJ004<br><b>Station</b>: Adarsh Nagar, Jaipur - RSPCB<br><b>AQI</b>: 91.0",
          "RJ005<br><b>Station</b>: Police Commissionerate, Jaipur - RSPCB<br><b>AQI</b>: 97.0",
          "RJ006<br><b>Station</b>: Shastri Nagar, Jaipur - RSPCB<br><b>AQI</b>: 99.0",
          "TG001<br><b>Station</b>: Bollaram Industrial Area, Hyderabad - TSPCB<br><b>AQI</b>: 67.0",
          "TG002<br><b>Station</b>: Central University, Hyderabad - TSPCB<br><b>AQI</b>: 62.0",
          "TG003<br><b>Station</b>: ICRISAT Patancheru, Hyderabad - TSPCB<br><b>AQI</b>: 60.0",
          "TG004<br><b>Station</b>: IDA Pashamylaram, Hyderabad - TSPCB<br><b>AQI</b>: 68.0",
          "TG005<br><b>Station</b>: Sanathnagar, Hyderabad - TSPCB<br><b>AQI</b>: 57.0",
          "TG006<br><b>Station</b>: Zoo Park, Hyderabad - TSPCB<br><b>AQI</b>: 68.0",
          "TN001<br><b>Station</b>: Alandur Bus Depot, Chennai - CPCB<br><b>AQI</b>: 73.0",
          "TN002<br><b>Station</b>: Manali Village, Chennai - TNPCB<br><b>AQI</b>: 111.0",
          "TN003<br><b>Station</b>: Manali, Chennai - CPCB<br><b>AQI</b>: 81.0",
          "TN004<br><b>Station</b>: Velachery Res. Area, Chennai - CPCB<br><b>AQI</b>: 60.0",
          "TN005<br><b>Station</b>: SIDCO Kurichi, Coimbatore - TNPCB<br><b>AQI</b>: 57.0",
          "UP012<br><b>Station</b>: Central School, Lucknow - CPCB<br><b>AQI</b>: 83.0",
          "UP013<br><b>Station</b>: Gomti Nagar, Lucknow - UPPCB<br><b>AQI</b>: 66.0",
          "UP014<br><b>Station</b>: Lalbagh, Lucknow - CPCB<br><b>AQI</b>: 130.0",
          "UP016<br><b>Station</b>: Talkatora District Industries Center, Lucknow - CPCB<br><b>AQI</b>: 143.0",
          "WB007<br><b>Station</b>: Ballygunge, Kolkata - WBPCB<br><b>AQI</b>: 60.0",
          "WB008<br><b>Station</b>: Bidhannagar, Kolkata - WBPCB<br><b>AQI</b>: 60.0",
          "WB009<br><b>Station</b>: Fort William, Kolkata - WBPCB<br><b>AQI</b>: 59.0",
          "WB010<br><b>Station</b>: Jadavpur, Kolkata - WBPCB<br><b>AQI</b>: 55.0",
          "WB011<br><b>Station</b>: Rabindra Bharati University, Kolkata - WBPCB<br><b>AQI</b>: 73.0",
          "WB012<br><b>Station</b>: Rabindra Sarobar, Kolkata - WBPCB<br><b>AQI</b>: 56.0",
          "WB013<br><b>Station</b>: Victoria, Kolkata - WBPCB<br><b>AQI</b>: 66.0"
         ],
         "type": "scattermapbox"
        }
       ],
       "layout": {
        "autosize": true,
        "hovermode": "closest",
        "mapbox": {
         "accesstoken": "pk.eyJ1IjoibWVya2VuZGl6YXIiLCJhIjoiY2t0bndsOHJrMDBzMjJvbzQ0NjlybTc0eSJ9.5X4jIj0tANN07r6kPJdiqQ",
         "bearing": 0,
         "center": {
          "lat": 20.5937,
          "lon": 78.9629
         },
         "domain": {
          "x": [
           0,
           0.48
          ],
          "y": [
           0,
           1
          ]
         },
         "pitch": 0,
         "style": "outdoors",
         "zoom": 2.5
        },
        "mapbox2": {
         "accesstoken": "pk.eyJ1IjoibWVya2VuZGl6YXIiLCJhIjoiY2t0bndsOHJrMDBzMjJvbzQ0NjlybTc0eSJ9.5X4jIj0tANN07r6kPJdiqQ",
         "bearing": 0,
         "center": {
          "lat": 20.5937,
          "lon": 78.9629
         },
         "domain": {
          "x": [
           0.52,
           1
          ],
          "y": [
           0,
           1
          ]
         },
         "pitch": 0,
         "style": "outdoors",
         "zoom": 2.5
        },
        "margin": {
         "b": 20,
         "l": 20,
         "r": 20,
         "t": 40
        },
        "paper_bgcolor": "LightSteelBlue",
        "showlegend": false,
        "template": {
         "data": {
          "bar": [
           {
            "error_x": {
             "color": "#2a3f5f"
            },
            "error_y": {
             "color": "#2a3f5f"
            },
            "marker": {
             "line": {
              "color": "#E5ECF6",
              "width": 0.5
             },
             "pattern": {
              "fillmode": "overlay",
              "size": 10,
              "solidity": 0.2
             }
            },
            "type": "bar"
           }
          ],
          "barpolar": [
           {
            "marker": {
             "line": {
              "color": "#E5ECF6",
              "width": 0.5
             },
             "pattern": {
              "fillmode": "overlay",
              "size": 10,
              "solidity": 0.2
             }
            },
            "type": "barpolar"
           }
          ],
          "carpet": [
           {
            "aaxis": {
             "endlinecolor": "#2a3f5f",
             "gridcolor": "white",
             "linecolor": "white",
             "minorgridcolor": "white",
             "startlinecolor": "#2a3f5f"
            },
            "baxis": {
             "endlinecolor": "#2a3f5f",
             "gridcolor": "white",
             "linecolor": "white",
             "minorgridcolor": "white",
             "startlinecolor": "#2a3f5f"
            },
            "type": "carpet"
           }
          ],
          "choropleth": [
           {
            "colorbar": {
             "outlinewidth": 0,
             "ticks": ""
            },
            "type": "choropleth"
           }
          ],
          "contour": [
           {
            "colorbar": {
             "outlinewidth": 0,
             "ticks": ""
            },
            "colorscale": [
             [
              0,
              "#0d0887"
             ],
             [
              0.1111111111111111,
              "#46039f"
             ],
             [
              0.2222222222222222,
              "#7201a8"
             ],
             [
              0.3333333333333333,
              "#9c179e"
             ],
             [
              0.4444444444444444,
              "#bd3786"
             ],
             [
              0.5555555555555556,
              "#d8576b"
             ],
             [
              0.6666666666666666,
              "#ed7953"
             ],
             [
              0.7777777777777778,
              "#fb9f3a"
             ],
             [
              0.8888888888888888,
              "#fdca26"
             ],
             [
              1,
              "#f0f921"
             ]
            ],
            "type": "contour"
           }
          ],
          "contourcarpet": [
           {
            "colorbar": {
             "outlinewidth": 0,
             "ticks": ""
            },
            "type": "contourcarpet"
           }
          ],
          "heatmap": [
           {
            "colorbar": {
             "outlinewidth": 0,
             "ticks": ""
            },
            "colorscale": [
             [
              0,
              "#0d0887"
             ],
             [
              0.1111111111111111,
              "#46039f"
             ],
             [
              0.2222222222222222,
              "#7201a8"
             ],
             [
              0.3333333333333333,
              "#9c179e"
             ],
             [
              0.4444444444444444,
              "#bd3786"
             ],
             [
              0.5555555555555556,
              "#d8576b"
             ],
             [
              0.6666666666666666,
              "#ed7953"
             ],
             [
              0.7777777777777778,
              "#fb9f3a"
             ],
             [
              0.8888888888888888,
              "#fdca26"
             ],
             [
              1,
              "#f0f921"
             ]
            ],
            "type": "heatmap"
           }
          ],
          "heatmapgl": [
           {
            "colorbar": {
             "outlinewidth": 0,
             "ticks": ""
            },
            "colorscale": [
             [
              0,
              "#0d0887"
             ],
             [
              0.1111111111111111,
              "#46039f"
             ],
             [
              0.2222222222222222,
              "#7201a8"
             ],
             [
              0.3333333333333333,
              "#9c179e"
             ],
             [
              0.4444444444444444,
              "#bd3786"
             ],
             [
              0.5555555555555556,
              "#d8576b"
             ],
             [
              0.6666666666666666,
              "#ed7953"
             ],
             [
              0.7777777777777778,
              "#fb9f3a"
             ],
             [
              0.8888888888888888,
              "#fdca26"
             ],
             [
              1,
              "#f0f921"
             ]
            ],
            "type": "heatmapgl"
           }
          ],
          "histogram": [
           {
            "marker": {
             "pattern": {
              "fillmode": "overlay",
              "size": 10,
              "solidity": 0.2
             }
            },
            "type": "histogram"
           }
          ],
          "histogram2d": [
           {
            "colorbar": {
             "outlinewidth": 0,
             "ticks": ""
            },
            "colorscale": [
             [
              0,
              "#0d0887"
             ],
             [
              0.1111111111111111,
              "#46039f"
             ],
             [
              0.2222222222222222,
              "#7201a8"
             ],
             [
              0.3333333333333333,
              "#9c179e"
             ],
             [
              0.4444444444444444,
              "#bd3786"
             ],
             [
              0.5555555555555556,
              "#d8576b"
             ],
             [
              0.6666666666666666,
              "#ed7953"
             ],
             [
              0.7777777777777778,
              "#fb9f3a"
             ],
             [
              0.8888888888888888,
              "#fdca26"
             ],
             [
              1,
              "#f0f921"
             ]
            ],
            "type": "histogram2d"
           }
          ],
          "histogram2dcontour": [
           {
            "colorbar": {
             "outlinewidth": 0,
             "ticks": ""
            },
            "colorscale": [
             [
              0,
              "#0d0887"
             ],
             [
              0.1111111111111111,
              "#46039f"
             ],
             [
              0.2222222222222222,
              "#7201a8"
             ],
             [
              0.3333333333333333,
              "#9c179e"
             ],
             [
              0.4444444444444444,
              "#bd3786"
             ],
             [
              0.5555555555555556,
              "#d8576b"
             ],
             [
              0.6666666666666666,
              "#ed7953"
             ],
             [
              0.7777777777777778,
              "#fb9f3a"
             ],
             [
              0.8888888888888888,
              "#fdca26"
             ],
             [
              1,
              "#f0f921"
             ]
            ],
            "type": "histogram2dcontour"
           }
          ],
          "mesh3d": [
           {
            "colorbar": {
             "outlinewidth": 0,
             "ticks": ""
            },
            "type": "mesh3d"
           }
          ],
          "parcoords": [
           {
            "line": {
             "colorbar": {
              "outlinewidth": 0,
              "ticks": ""
             }
            },
            "type": "parcoords"
           }
          ],
          "pie": [
           {
            "automargin": true,
            "type": "pie"
           }
          ],
          "scatter": [
           {
            "marker": {
             "colorbar": {
              "outlinewidth": 0,
              "ticks": ""
             }
            },
            "type": "scatter"
           }
          ],
          "scatter3d": [
           {
            "line": {
             "colorbar": {
              "outlinewidth": 0,
              "ticks": ""
             }
            },
            "marker": {
             "colorbar": {
              "outlinewidth": 0,
              "ticks": ""
             }
            },
            "type": "scatter3d"
           }
          ],
          "scattercarpet": [
           {
            "marker": {
             "colorbar": {
              "outlinewidth": 0,
              "ticks": ""
             }
            },
            "type": "scattercarpet"
           }
          ],
          "scattergeo": [
           {
            "marker": {
             "colorbar": {
              "outlinewidth": 0,
              "ticks": ""
             }
            },
            "type": "scattergeo"
           }
          ],
          "scattergl": [
           {
            "marker": {
             "colorbar": {
              "outlinewidth": 0,
              "ticks": ""
             }
            },
            "type": "scattergl"
           }
          ],
          "scattermapbox": [
           {
            "marker": {
             "colorbar": {
              "outlinewidth": 0,
              "ticks": ""
             }
            },
            "type": "scattermapbox"
           }
          ],
          "scatterpolar": [
           {
            "marker": {
             "colorbar": {
              "outlinewidth": 0,
              "ticks": ""
             }
            },
            "type": "scatterpolar"
           }
          ],
          "scatterpolargl": [
           {
            "marker": {
             "colorbar": {
              "outlinewidth": 0,
              "ticks": ""
             }
            },
            "type": "scatterpolargl"
           }
          ],
          "scatterternary": [
           {
            "marker": {
             "colorbar": {
              "outlinewidth": 0,
              "ticks": ""
             }
            },
            "type": "scatterternary"
           }
          ],
          "surface": [
           {
            "colorbar": {
             "outlinewidth": 0,
             "ticks": ""
            },
            "colorscale": [
             [
              0,
              "#0d0887"
             ],
             [
              0.1111111111111111,
              "#46039f"
             ],
             [
              0.2222222222222222,
              "#7201a8"
             ],
             [
              0.3333333333333333,
              "#9c179e"
             ],
             [
              0.4444444444444444,
              "#bd3786"
             ],
             [
              0.5555555555555556,
              "#d8576b"
             ],
             [
              0.6666666666666666,
              "#ed7953"
             ],
             [
              0.7777777777777778,
              "#fb9f3a"
             ],
             [
              0.8888888888888888,
              "#fdca26"
             ],
             [
              1,
              "#f0f921"
             ]
            ],
            "type": "surface"
           }
          ],
          "table": [
           {
            "cells": {
             "fill": {
              "color": "#EBF0F8"
             },
             "line": {
              "color": "white"
             }
            },
            "header": {
             "fill": {
              "color": "#C8D4E3"
             },
             "line": {
              "color": "white"
             }
            },
            "type": "table"
           }
          ]
         },
         "layout": {
          "annotationdefaults": {
           "arrowcolor": "#2a3f5f",
           "arrowhead": 0,
           "arrowwidth": 1
          },
          "autotypenumbers": "strict",
          "coloraxis": {
           "colorbar": {
            "outlinewidth": 0,
            "ticks": ""
           }
          },
          "colorscale": {
           "diverging": [
            [
             0,
             "#8e0152"
            ],
            [
             0.1,
             "#c51b7d"
            ],
            [
             0.2,
             "#de77ae"
            ],
            [
             0.3,
             "#f1b6da"
            ],
            [
             0.4,
             "#fde0ef"
            ],
            [
             0.5,
             "#f7f7f7"
            ],
            [
             0.6,
             "#e6f5d0"
            ],
            [
             0.7,
             "#b8e186"
            ],
            [
             0.8,
             "#7fbc41"
            ],
            [
             0.9,
             "#4d9221"
            ],
            [
             1,
             "#276419"
            ]
           ],
           "sequential": [
            [
             0,
             "#0d0887"
            ],
            [
             0.1111111111111111,
             "#46039f"
            ],
            [
             0.2222222222222222,
             "#7201a8"
            ],
            [
             0.3333333333333333,
             "#9c179e"
            ],
            [
             0.4444444444444444,
             "#bd3786"
            ],
            [
             0.5555555555555556,
             "#d8576b"
            ],
            [
             0.6666666666666666,
             "#ed7953"
            ],
            [
             0.7777777777777778,
             "#fb9f3a"
            ],
            [
             0.8888888888888888,
             "#fdca26"
            ],
            [
             1,
             "#f0f921"
            ]
           ],
           "sequentialminus": [
            [
             0,
             "#0d0887"
            ],
            [
             0.1111111111111111,
             "#46039f"
            ],
            [
             0.2222222222222222,
             "#7201a8"
            ],
            [
             0.3333333333333333,
             "#9c179e"
            ],
            [
             0.4444444444444444,
             "#bd3786"
            ],
            [
             0.5555555555555556,
             "#d8576b"
            ],
            [
             0.6666666666666666,
             "#ed7953"
            ],
            [
             0.7777777777777778,
             "#fb9f3a"
            ],
            [
             0.8888888888888888,
             "#fdca26"
            ],
            [
             1,
             "#f0f921"
            ]
           ]
          },
          "colorway": [
           "#636efa",
           "#EF553B",
           "#00cc96",
           "#ab63fa",
           "#FFA15A",
           "#19d3f3",
           "#FF6692",
           "#B6E880",
           "#FF97FF",
           "#FECB52"
          ],
          "font": {
           "color": "#2a3f5f"
          },
          "geo": {
           "bgcolor": "white",
           "lakecolor": "white",
           "landcolor": "#E5ECF6",
           "showlakes": true,
           "showland": true,
           "subunitcolor": "white"
          },
          "hoverlabel": {
           "align": "left"
          },
          "hovermode": "closest",
          "mapbox": {
           "style": "light"
          },
          "paper_bgcolor": "white",
          "plot_bgcolor": "#E5ECF6",
          "polar": {
           "angularaxis": {
            "gridcolor": "white",
            "linecolor": "white",
            "ticks": ""
           },
           "bgcolor": "#E5ECF6",
           "radialaxis": {
            "gridcolor": "white",
            "linecolor": "white",
            "ticks": ""
           }
          },
          "scene": {
           "xaxis": {
            "backgroundcolor": "#E5ECF6",
            "gridcolor": "white",
            "gridwidth": 2,
            "linecolor": "white",
            "showbackground": true,
            "ticks": "",
            "zerolinecolor": "white"
           },
           "yaxis": {
            "backgroundcolor": "#E5ECF6",
            "gridcolor": "white",
            "gridwidth": 2,
            "linecolor": "white",
            "showbackground": true,
            "ticks": "",
            "zerolinecolor": "white"
           },
           "zaxis": {
            "backgroundcolor": "#E5ECF6",
            "gridcolor": "white",
            "gridwidth": 2,
            "linecolor": "white",
            "showbackground": true,
            "ticks": "",
            "zerolinecolor": "white"
           }
          },
          "shapedefaults": {
           "line": {
            "color": "#2a3f5f"
           }
          },
          "ternary": {
           "aaxis": {
            "gridcolor": "white",
            "linecolor": "white",
            "ticks": ""
           },
           "baxis": {
            "gridcolor": "white",
            "linecolor": "white",
            "ticks": ""
           },
           "bgcolor": "#E5ECF6",
           "caxis": {
            "gridcolor": "white",
            "linecolor": "white",
            "ticks": ""
           }
          },
          "title": {
           "x": 0.05
          },
          "xaxis": {
           "automargin": true,
           "gridcolor": "white",
           "linecolor": "white",
           "ticks": "",
           "title": {
            "standoff": 15
           },
           "zerolinecolor": "white",
           "zerolinewidth": 2
          },
          "yaxis": {
           "automargin": true,
           "gridcolor": "white",
           "linecolor": "white",
           "ticks": "",
           "title": {
            "standoff": 15
           },
           "zerolinecolor": "white",
           "zerolinewidth": 2
          }
         }
        },
        "title": {
         "text": "India: Before & After Lockdown"
        }
       }
      },
      "text/html": [
       "<div>                            <div id=\"79d6fe85-defe-45e4-9f02-cb06a643beac\" class=\"plotly-graph-div\" style=\"height:525px; width:100%;\"></div>            <script type=\"text/javascript\">                require([\"plotly\"], function(Plotly) {                    window.PLOTLYENV=window.PLOTLYENV || {};                                    if (document.getElementById(\"79d6fe85-defe-45e4-9f02-cb06a643beac\")) {                    Plotly.newPlot(                        \"79d6fe85-defe-45e4-9f02-cb06a643beac\",                        [{\"hoverinfo\":\"text\",\"lat\":[\"16.5151\",\"17.72\",\"26.1817\",\"25.5866\",\"25.5925\",\"25.6054\",\"25.6195\",\"25.6036\",\"25.6075\",\"30.7515\",\"28.7972\",\"28.6687\",\"28.6687\",\"28.4707\",\"28.7932\",\"28.5512\",\"28.7496\",\"28.4986\",\"28.571\",\"28.6557\",\"28.5628\",\"28.6826\",\"28.6286\",\"28.6687\",\"28.5803\",\"28.5901\",\"28.6113\",\"28.6364\",\"28.6823\",\"28.6091\",\"28.5702\",\"28.8549\",\"28.5679\",\"28.6574\",\"28.5308\",\"28.6687\",\"28.6687\",\"28.6377\",\"28.5901\",\"28.6687\",\"28.6687\",\"28.6515\",\"28.550425\",\"28.6687\",\"28.5313\",\"28.6687\",\"28.6687\",\"22.959\",\"28.4235\",\"28.4227\",\"28.4275\",\"28.4501\",\"23.7079\",\"12.9135\",\"12.9473\",\"12.9756\",\"12.9781\",\"12.9756\",\"12.9756\",\"12.921\",\"13.0285\",\"12.967507\",\"12.9173\",\"9.9857\",\"9.9694\",\"8.5637\",\"8.5149\",\"19.0596\",\"19.1328\",\"19.1008\",\"18.91\",\"19.0863\",\"19.1176\",\"19.039\",\"19.3832\",\"19.1086\",\"18.9936\",\"25.5586\",\"23.2099\",\"23.7176\",\"21.8005\",\"20.9361\",\"31.62\",\"26.8754\",\"26.9164\",\"26.9798\",\"17.5409\",\"17.4601\",\"17.5111\",\"17.5325\",\"17.457\",\"17.3497\",\"12.9099\",\"13.1779\",\"13.1779\",\"13.0052\",\"10.941234\",\"26.8821\",\"26.8648\",\"26.8459\",\"26.3\",\"22.528\",\"22.5797\",\"22.5566\",\"22.562\",\"22.5895\",\"22.5121\",\"22.5448\",\"28.7285\",\"26.8648\"],\"lon\":[80.5182,83.3,91.7806,85.0436,85.2272,85.0891,85.1466,85.112,85.0846,76.7629,77.1331,77.23,77.23,77.1099,77.0483,77.2736,77.1174,77.2648,77.0719,77.2949,77.118,77.305,77.2411,77.23,77.2338,77.2207,77.2377,77.2011,77.0349,77.0325,76.9338,77.0892,77.2505,77.1585,77.2713,77.23,77.23,77.1571,77.2207,77.23,77.23,77.1473,77.215935,77.23,77.1902,77.23,77.23,72.6295,77.1489,77.0667,77.1465,77.0263,86.4147,77.5951,77.6983,77.6033,77.5697,77.6033,77.6033,77.5849,77.5197,77.70945,77.6228,76.2813,76.3212,76.8865,76.9436,72.8295,72.5205,72.8746,72.82,72.8888,72.906,72.8619,72.8204,72.8362,72.8128,91.8985,77.4228,92.7193,83.8397,85.1707,74.8765,75.8167,75.8017,75.7739,78.3585,78.3344,78.2752,78.1849,78.4416,78.4514,80.1077,80.2701,80.2701,80.2398,76.97203,80.9303,81.0048,80.9366,80.3,88.3659,88.4143,88.3427,88.409,88.3558,88.3637,88.3426,77.1993,81.0048],\"marker\":{\"color\":[69.5,104.34177215189874,254.20731707317074,210.625,260.5882352941176,275.75,160.73333333333332,178.3125,228.320987654321,85.67073170731707,236.7439024390244,277.1625,273.4634146341463,180.109756097561,294.0740740740741,254.15853658536585,285.08641975308643,246.9512195121951,294.3048780487805,null,211.9268292682927,226.6829268292683,260.6666666666667,295.4125,245.3658536585366,190.5731707317073,238.23170731707316,223.0506329113924,300.55696202531647,259.0,227.0,258.1829268292683,294.9634146341463,209.46913580246914,259.7682926829268,230.7560975609756,289.525,252.475,169.46341463414635,215.1219512195122,300.5487804878049,228.5121951219512,279.6951219512195,249.53658536585365,223.03658536585365,276.5365853658537,296.780487804878,397.2987012987013,203.53658536585365,172.1764705882353,140.4,186.325,165.1159420289855,68.37037037037037,124.36,111.08620689655173,115.22535211267606,97.2,104.87654320987654,107.12345679012346,84.12345679012346,67.5625,96.9342105263158,99.73214285714286,127.1864406779661,90.30555555555556,80.2560975609756,124.57142857142857,95.26829268292683,182.4390243902439,145.5121951219512,177.09756097560975,126.98780487804878,183.0,148.84146341463415,153.39506172839506,157.5,77.8840579710145,137.5731707317073,60.18181818181818,139.83582089552237,219.25,109.13924050632912,100.90243902439025,135.8658536585366,115.47560975609755,96.16883116883118,86.60975609756098,91.325,94.07894736842105,90.94366197183099,114.4927536231884,80.86585365853658,70.01369863013699,113.66233766233766,64.17073170731707,79.7051282051282,180.70731707317074,152.875,265.5487804878049,266.4390243902439,220.4390243902439,161.9102564102564,191.14634146341464,156.1341463414634,224.74647887323943,153.390243902439,206.46913580246914,null,null],\"colorscale\":[[0,\"#77DD77\"],[0.0,\"#77DD77\"],[0.0,\"#33AF13\"],[0.11812387626165344,\"#33AF13\"],[0.11812387626165344,\"#F6D20E\"],[0.4147568988365822,\"#F6D20E\"],[0.4147568988365822,\"#F17700\"],[0.7113899214115108,\"#F17700\"],[0.7113899214115108,\"#FE6B64\"],[1.0,\"#FE6B64\"]],\"opacity\":0.7,\"size\":17},\"mode\":\"markers\",\"name\":\"Before Lockdown\",\"subplot\":\"mapbox\",\"text\":[\"AP001<br><b>Station</b>: Secretariat, Amaravati - APPCB<br><b>AQI</b>: 70.0\",\"AP005<br><b>Station</b>: GVM Corporation, Visakhapatnam - APPCB<br><b>AQI</b>: 104.0\",\"AS001<br><b>Station</b>: Railway Colony, Guwahati - APCB<br><b>AQI</b>: 254.0\",\"BR005<br><b>Station</b>: DRM Office Danapur, Patna - BSPCB<br><b>AQI</b>: 211.0\",\"BR006<br><b>Station</b>: Govt. High School Shikarpur, Patna - BSPCB<br><b>AQI</b>: 261.0\",\"BR007<br><b>Station</b>: IGSC Planetarium Complex, Patna - BSPCB<br><b>AQI</b>: 276.0\",\"BR008<br><b>Station</b>: Muradpur, Patna - BSPCB<br><b>AQI</b>: 161.0\",\"BR009<br><b>Station</b>: Rajbansi Nagar, Patna - BSPCB<br><b>AQI</b>: 178.0\",\"BR010<br><b>Station</b>: Samanpura, Patna - BSPCB<br><b>AQI</b>: 228.0\",\"CH001<br><b>Station</b>: Sector-25, Chandigarh - CPCC<br><b>AQI</b>: 86.0\",\"DL001<br><b>Station</b>: Alipur, Delhi - DPCC<br><b>AQI</b>: 237.0\",\"DL002<br><b>Station</b>: Anand Vihar, Delhi - DPCC<br><b>AQI</b>: 277.0\",\"DL003<br><b>Station</b>: Ashok Vihar, Delhi - DPCC<br><b>AQI</b>: 273.0\",\"DL004<br><b>Station</b>: Aya Nagar, Delhi - IMD<br><b>AQI</b>: 180.0\",\"DL005<br><b>Station</b>: Bawana, Delhi - DPCC<br><b>AQI</b>: 294.0\",\"DL007<br><b>Station</b>: CRRI Mathura Road, Delhi - IMD<br><b>AQI</b>: 254.0\",\"DL008<br><b>Station</b>: DTU, Delhi - CPCB<br><b>AQI</b>: 285.0\",\"DL009<br><b>Station</b>: Dr. Karni Singh Shooting Range, Delhi - DPCC<br><b>AQI</b>: 247.0\",\"DL010<br><b>Station</b>: Dwarka-Sector 8, Delhi - DPCC<br><b>AQI</b>: 294.0\",\"DL011<br><b>Station</b>: East Arjun Nagar, Delhi - CPCB<br><b>AQI</b>: nan\",\"DL012<br><b>Station</b>: IGI Airport (T3), Delhi - IMD<br><b>AQI</b>: 212.0\",\"DL013<br><b>Station</b>: IHBAS, Dilshad Garden, Delhi - CPCB<br><b>AQI</b>: 227.0\",\"DL014<br><b>Station</b>: ITO, Delhi - CPCB<br><b>AQI</b>: 261.0\",\"DL015<br><b>Station</b>: Jahangirpuri, Delhi - DPCC<br><b>AQI</b>: 295.0\",\"DL016<br><b>Station</b>: Jawaharlal Nehru Stadium, Delhi - DPCC<br><b>AQI</b>: 245.0\",\"DL017<br><b>Station</b>: Lodhi Road, Delhi - IMD<br><b>AQI</b>: 191.0\",\"DL018<br><b>Station</b>: Major Dhyan Chand National Stadium, Delhi - DPCC<br><b>AQI</b>: 238.0\",\"DL019<br><b>Station</b>: Mandir Marg, Delhi - DPCC<br><b>AQI</b>: 223.0\",\"DL020<br><b>Station</b>: Mundka, Delhi - DPCC<br><b>AQI</b>: 301.0\",\"DL021<br><b>Station</b>: NSIT Dwarka, Delhi - CPCB<br><b>AQI</b>: 259.0\",\"DL022<br><b>Station</b>: Najafgarh, Delhi - DPCC<br><b>AQI</b>: 227.0\",\"DL023<br><b>Station</b>: Narela, Delhi - DPCC<br><b>AQI</b>: 258.0\",\"DL024<br><b>Station</b>: Nehru Nagar, Delhi - DPCC<br><b>AQI</b>: 295.0\",\"DL025<br><b>Station</b>: North Campus, DU, Delhi - IMD<br><b>AQI</b>: 209.0\",\"DL026<br><b>Station</b>: Okhla Phase-2, Delhi - DPCC<br><b>AQI</b>: 260.0\",\"DL027<br><b>Station</b>: Patparganj, Delhi - DPCC<br><b>AQI</b>: 231.0\",\"DL028<br><b>Station</b>: Punjabi Bagh, Delhi - DPCC<br><b>AQI</b>: 290.0\",\"DL029<br><b>Station</b>: Pusa, Delhi - DPCC<br><b>AQI</b>: 252.0\",\"DL030<br><b>Station</b>: Pusa, Delhi - IMD<br><b>AQI</b>: 169.0\",\"DL031<br><b>Station</b>: R K Puram, Delhi - DPCC<br><b>AQI</b>: 215.0\",\"DL032<br><b>Station</b>: Rohini, Delhi - DPCC<br><b>AQI</b>: 301.0\",\"DL033<br><b>Station</b>: Shadipur, Delhi - CPCB<br><b>AQI</b>: 229.0\",\"DL034<br><b>Station</b>: Sirifort, Delhi - CPCB<br><b>AQI</b>: 280.0\",\"DL035<br><b>Station</b>: Sonia Vihar, Delhi - DPCC<br><b>AQI</b>: 250.0\",\"DL036<br><b>Station</b>: Sri Aurobindo Marg, Delhi - DPCC<br><b>AQI</b>: 223.0\",\"DL037<br><b>Station</b>: Vivek Vihar, Delhi - DPCC<br><b>AQI</b>: 277.0\",\"DL038<br><b>Station</b>: Wazirpur, Delhi - DPCC<br><b>AQI</b>: 297.0\",\"GJ001<br><b>Station</b>: Maninagar, Ahmedabad - GPCB<br><b>AQI</b>: 397.0\",\"HR011<br><b>Station</b>: NISE Gwal Pahari, Gurugram - IMD<br><b>AQI</b>: 204.0\",\"HR012<br><b>Station</b>: Sector-51, Gurugram - HSPCB<br><b>AQI</b>: 172.0\",\"HR013<br><b>Station</b>: Teri Gram, Gurugram - HSPCB<br><b>AQI</b>: 140.0\",\"HR014<br><b>Station</b>: Vikas Sadan, Gurugram - HSPCB<br><b>AQI</b>: 186.0\",\"JH001<br><b>Station</b>: Tata Stadium, Jorapokhar - JSPCB<br><b>AQI</b>: 165.0\",\"KA002<br><b>Station</b>: BTM Layout, Bengaluru - CPCB<br><b>AQI</b>: 68.0\",\"KA003<br><b>Station</b>: BWSSB Kadabesanahalli, Bengaluru - CPCB<br><b>AQI</b>: 124.0\",\"KA004<br><b>Station</b>: Bapuji Nagar, Bengaluru - KSPCB<br><b>AQI</b>: 111.0\",\"KA005<br><b>Station</b>: City Railway Station, Bengaluru - KSPCB<br><b>AQI</b>: 115.0\",\"KA006<br><b>Station</b>: Hebbal, Bengaluru - KSPCB<br><b>AQI</b>: 97.0\",\"KA007<br><b>Station</b>: Hombegowda Nagar, Bengaluru - KSPCB<br><b>AQI</b>: 105.0\",\"KA008<br><b>Station</b>: Jayanagar 5th Block, Bengaluru - KSPCB<br><b>AQI</b>: 107.0\",\"KA009<br><b>Station</b>: Peenya, Bengaluru - CPCB<br><b>AQI</b>: 84.0\",\"KA010<br><b>Station</b>: Sanegurava Halli, Bengaluru - KSPCB<br><b>AQI</b>: 68.0\",\"KA011<br><b>Station</b>: Silk Board, Bengaluru - KSPCB<br><b>AQI</b>: 97.0\",\"KL002<br><b>Station</b>: Kacheripady, Ernakulam - Kerala PCB<br><b>AQI</b>: 100.0\",\"KL004<br><b>Station</b>: Vyttila, Kochi - Kerala PCB<br><b>AQI</b>: 127.0\",\"KL007<br><b>Station</b>: Kariavattom, Thiruvananthapuram - Kerala PCB<br><b>AQI</b>: 90.0\",\"KL008<br><b>Station</b>: Plammoodu, Thiruvananthapuram - Kerala PCB<br><b>AQI</b>: 80.0\",\"MH005<br><b>Station</b>: Bandra, Mumbai - MPCB<br><b>AQI</b>: 125.0\",\"MH006<br><b>Station</b>: Borivali East, Mumbai - MPCB<br><b>AQI</b>: 95.0\",\"MH007<br><b>Station</b>: Chhatrapati Shivaji Intl. Airport (T2), Mumbai - MPCB<br><b>AQI</b>: 182.0\",\"MH008<br><b>Station</b>: Colaba, Mumbai - MPCB<br><b>AQI</b>: 146.0\",\"MH009<br><b>Station</b>: Kurla, Mumbai - MPCB<br><b>AQI</b>: 177.0\",\"MH010<br><b>Station</b>: Powai, Mumbai - MPCB<br><b>AQI</b>: 127.0\",\"MH011<br><b>Station</b>: Sion, Mumbai - MPCB<br><b>AQI</b>: 183.0\",\"MH012<br><b>Station</b>: Vasai West, Mumbai - MPCB<br><b>AQI</b>: 149.0\",\"MH013<br><b>Station</b>: Vile Parle West, Mumbai - MPCB<br><b>AQI</b>: 153.0\",\"MH014<br><b>Station</b>: Worli, Mumbai - MPCB<br><b>AQI</b>: 158.0\",\"ML001<br><b>Station</b>: Lumpyngngad, Shillong - Meghalaya PCB<br><b>AQI</b>: 78.0\",\"MP001<br><b>Station</b>: T T Nagar, Bhopal - MPPCB<br><b>AQI</b>: 138.0\",\"MZ001<br><b>Station</b>: Sikulpuikawn, Aizawl - Mizoram PCB<br><b>AQI</b>: 60.0\",\"OD001<br><b>Station</b>: GM Office, Brajrajnagar - OSPCB<br><b>AQI</b>: 140.0\",\"OD002<br><b>Station</b>: Talcher Coalfields,Talcher - OSPCB<br><b>AQI</b>: 219.0\",\"PB001<br><b>Station</b>: Golden Temple, Amritsar - PPCB<br><b>AQI</b>: 109.0\",\"RJ004<br><b>Station</b>: Adarsh Nagar, Jaipur - RSPCB<br><b>AQI</b>: 101.0\",\"RJ005<br><b>Station</b>: Police Commissionerate, Jaipur - RSPCB<br><b>AQI</b>: 136.0\",\"RJ006<br><b>Station</b>: Shastri Nagar, Jaipur - RSPCB<br><b>AQI</b>: 115.0\",\"TG001<br><b>Station</b>: Bollaram Industrial Area, Hyderabad - TSPCB<br><b>AQI</b>: 96.0\",\"TG002<br><b>Station</b>: Central University, Hyderabad - TSPCB<br><b>AQI</b>: 87.0\",\"TG003<br><b>Station</b>: ICRISAT Patancheru, Hyderabad - TSPCB<br><b>AQI</b>: 91.0\",\"TG004<br><b>Station</b>: IDA Pashamylaram, Hyderabad - TSPCB<br><b>AQI</b>: 94.0\",\"TG005<br><b>Station</b>: Sanathnagar, Hyderabad - TSPCB<br><b>AQI</b>: 91.0\",\"TG006<br><b>Station</b>: Zoo Park, Hyderabad - TSPCB<br><b>AQI</b>: 114.0\",\"TN001<br><b>Station</b>: Alandur Bus Depot, Chennai - CPCB<br><b>AQI</b>: 81.0\",\"TN002<br><b>Station</b>: Manali Village, Chennai - TNPCB<br><b>AQI</b>: 70.0\",\"TN003<br><b>Station</b>: Manali, Chennai - CPCB<br><b>AQI</b>: 114.0\",\"TN004<br><b>Station</b>: Velachery Res. Area, Chennai - CPCB<br><b>AQI</b>: 64.0\",\"TN005<br><b>Station</b>: SIDCO Kurichi, Coimbatore - TNPCB<br><b>AQI</b>: 80.0\",\"UP012<br><b>Station</b>: Central School, Lucknow - CPCB<br><b>AQI</b>: 181.0\",\"UP013<br><b>Station</b>: Gomti Nagar, Lucknow - UPPCB<br><b>AQI</b>: 153.0\",\"UP014<br><b>Station</b>: Lalbagh, Lucknow - CPCB<br><b>AQI</b>: 266.0\",\"UP016<br><b>Station</b>: Talkatora District Industries Center, Lucknow - CPCB<br><b>AQI</b>: 266.0\",\"WB007<br><b>Station</b>: Ballygunge, Kolkata - WBPCB<br><b>AQI</b>: 220.0\",\"WB008<br><b>Station</b>: Bidhannagar, Kolkata - WBPCB<br><b>AQI</b>: 162.0\",\"WB009<br><b>Station</b>: Fort William, Kolkata - WBPCB<br><b>AQI</b>: 191.0\",\"WB010<br><b>Station</b>: Jadavpur, Kolkata - WBPCB<br><b>AQI</b>: 156.0\",\"WB011<br><b>Station</b>: Rabindra Bharati University, Kolkata - WBPCB<br><b>AQI</b>: 225.0\",\"WB012<br><b>Station</b>: Rabindra Sarobar, Kolkata - WBPCB<br><b>AQI</b>: 153.0\",\"WB013<br><b>Station</b>: Victoria, Kolkata - WBPCB<br><b>AQI</b>: 206.0\",\"DL006<br><b>Station</b>: Burari Crossing, Delhi - IMD<br><b>AQI</b>: nan\",\"UP015<br><b>Station</b>: Nishant Ganj, Lucknow - UPPCB<br><b>AQI</b>: nan\"],\"type\":\"scattermapbox\"},{\"hoverinfo\":\"text\",\"lat\":[\"16.5151\",\"17.72\",\"26.1817\",\"25.5866\",\"25.5925\",\"25.6054\",\"25.6195\",\"25.6036\",\"25.6075\",\"30.7515\",\"28.7972\",\"28.6687\",\"28.6687\",\"28.4707\",\"28.7932\",\"28.5512\",\"28.7496\",\"28.4986\",\"28.571\",\"28.6557\",\"28.5628\",\"28.6826\",\"28.6286\",\"28.6687\",\"28.5803\",\"28.5901\",\"28.6113\",\"28.6364\",\"28.6823\",\"28.6091\",\"28.5702\",\"28.8549\",\"28.5679\",\"28.6574\",\"28.5308\",\"28.6687\",\"28.6687\",\"28.6377\",\"28.5901\",\"28.6687\",\"28.6687\",\"28.6515\",\"28.550425\",\"28.6687\",\"28.5313\",\"28.6687\",\"28.6687\",\"22.959\",\"28.4235\",\"28.4227\",\"28.4275\",\"28.4501\",\"23.7079\",\"12.9135\",\"12.9473\",\"12.9756\",\"12.9781\",\"12.9756\",\"12.9756\",\"12.921\",\"13.0285\",\"12.967507\",\"12.9173\",\"9.9857\",\"9.9694\",\"8.5637\",\"8.5149\",\"19.0596\",\"19.1328\",\"19.1008\",\"18.91\",\"19.0863\",\"19.1176\",\"19.039\",\"19.3832\",\"19.1086\",\"18.9936\",\"25.5586\",\"23.2099\",\"23.7176\",\"21.8005\",\"20.9361\",\"31.62\",\"26.8754\",\"26.9164\",\"26.9798\",\"17.5409\",\"17.4601\",\"17.5111\",\"17.5325\",\"17.457\",\"17.3497\",\"12.9099\",\"13.1779\",\"13.1779\",\"13.0052\",\"10.941234\",\"26.8821\",\"26.8648\",\"26.8459\",\"26.3\",\"22.528\",\"22.5797\",\"22.5566\",\"22.562\",\"22.5895\",\"22.5121\",\"22.5448\"],\"lon\":[80.5182,83.3,91.7806,85.0436,85.2272,85.0891,85.1466,85.112,85.0846,76.7629,77.1331,77.23,77.23,77.1099,77.0483,77.2736,77.1174,77.2648,77.0719,77.2949,77.118,77.305,77.2411,77.23,77.2338,77.2207,77.2377,77.2011,77.0349,77.0325,76.9338,77.0892,77.2505,77.1585,77.2713,77.23,77.23,77.1571,77.2207,77.23,77.23,77.1473,77.215935,77.23,77.1902,77.23,77.23,72.6295,77.1489,77.0667,77.1465,77.0263,86.4147,77.5951,77.6983,77.6033,77.5697,77.6033,77.6033,77.5849,77.5197,77.70945,77.6228,76.2813,76.3212,76.8865,76.9436,72.8295,72.5205,72.8746,72.82,72.8888,72.906,72.8619,72.8204,72.8362,72.8128,91.8985,77.4228,92.7193,83.8397,85.1707,74.8765,75.8167,75.8017,75.7739,78.3585,78.3344,78.2752,78.1849,78.4416,78.4514,80.1077,80.2701,80.2701,80.2398,76.97203,80.9303,81.0048,80.9366,80.3,88.3659,88.4143,88.3427,88.409,88.3558,88.3637,88.3426],\"marker\":{\"color\":[52.06930693069307,69.0,86.24752475247524,87.49019607843137,115.01052631578948,127.48275862068965,91.64,92.89,175.61,59.69,129.02020202020202,157.51388888888889,107.63366336633663,99.83673469387755,164.33333333333334,114.57425742574257,159.01020408163265,155.66336633663366,134.0891089108911,null,98.5959595959596,93.17821782178218,157.03191489361703,129.3,123.16831683168317,134.39080459770116,120.54,91.89583333333333,147.55208333333334,123.33333333333333,128.375,157.48192771084337,149.34653465346534,103.8019801980198,109.4950495049505,89.14141414141415,148.75,117.20588235294117,123.73214285714286,101.36633663366337,138.0,88.66336633663366,143.9009900990099,124.52577319587628,119.16326530612245,121.70297029702971,124.80412371134021,121.33333333333333,103.61386138613861,150.98019801980197,111.54455445544555,139.08247422680412,130.66666666666666,73.41584158415841,108.6231884057971,67.0,83.76271186440678,55.739583333333336,61.13095238095238,52.91860465116279,63.83695652173913,54.9125,57.1578947368421,88.10309278350516,90.63636363636364,57.77272727272727,51.410526315789475,66.93103448275862,62.5,75.65306122448979,52.65882352941176,78.91,53.28865979381443,69.67,70.34848484848484,51.225352112676056,55.45161290322581,39.06849315068493,94.18681318681318,31.97,133.72222222222223,110.5,79.53684210526316,91.27722772277228,97.0909090909091,98.70297029702971,67.37113402061856,61.64646464646464,59.99,68.32673267326733,57.074074074074076,67.51648351648352,72.5049504950495,110.75280898876404,80.5049504950495,59.71,56.69230769230769,83.2871287128713,66.49462365591398,130.02970297029702,143.1980198019802,59.95,60.04123711340206,58.77,55.306930693069305,72.91358024691358,55.60606060606061,65.74157303370787],\"colorscale\":[[0,\"#77DD77\"],[0.12553213868003343,\"#77DD77\"],[0.12553213868003343,\"#33AF13\"],[0.4736245920356446,\"#33AF13\"],[0.4736245920356446,\"#F6D20E\"],[1.0,\"#F6D20E\"]],\"opacity\":0.7,\"size\":17},\"mode\":\"markers\",\"name\":\"After Lockdown\",\"subplot\":\"mapbox2\",\"text\":[\"AP001<br><b>Station</b>: Secretariat, Amaravati - APPCB<br><b>AQI</b>: 52.0\",\"AP005<br><b>Station</b>: GVM Corporation, Visakhapatnam - APPCB<br><b>AQI</b>: 69.0\",\"AS001<br><b>Station</b>: Railway Colony, Guwahati - APCB<br><b>AQI</b>: 86.0\",\"BR005<br><b>Station</b>: DRM Office Danapur, Patna - BSPCB<br><b>AQI</b>: 87.0\",\"BR006<br><b>Station</b>: Govt. High School Shikarpur, Patna - BSPCB<br><b>AQI</b>: 115.0\",\"BR007<br><b>Station</b>: IGSC Planetarium Complex, Patna - BSPCB<br><b>AQI</b>: 127.0\",\"BR008<br><b>Station</b>: Muradpur, Patna - BSPCB<br><b>AQI</b>: 92.0\",\"BR009<br><b>Station</b>: Rajbansi Nagar, Patna - BSPCB<br><b>AQI</b>: 93.0\",\"BR010<br><b>Station</b>: Samanpura, Patna - BSPCB<br><b>AQI</b>: 176.0\",\"CH001<br><b>Station</b>: Sector-25, Chandigarh - CPCC<br><b>AQI</b>: 60.0\",\"DL001<br><b>Station</b>: Alipur, Delhi - DPCC<br><b>AQI</b>: 129.0\",\"DL002<br><b>Station</b>: Anand Vihar, Delhi - DPCC<br><b>AQI</b>: 158.0\",\"DL003<br><b>Station</b>: Ashok Vihar, Delhi - DPCC<br><b>AQI</b>: 108.0\",\"DL004<br><b>Station</b>: Aya Nagar, Delhi - IMD<br><b>AQI</b>: 100.0\",\"DL005<br><b>Station</b>: Bawana, Delhi - DPCC<br><b>AQI</b>: 164.0\",\"DL007<br><b>Station</b>: CRRI Mathura Road, Delhi - IMD<br><b>AQI</b>: 115.0\",\"DL008<br><b>Station</b>: DTU, Delhi - CPCB<br><b>AQI</b>: 159.0\",\"DL009<br><b>Station</b>: Dr. Karni Singh Shooting Range, Delhi - DPCC<br><b>AQI</b>: 156.0\",\"DL010<br><b>Station</b>: Dwarka-Sector 8, Delhi - DPCC<br><b>AQI</b>: 134.0\",\"DL011<br><b>Station</b>: East Arjun Nagar, Delhi - CPCB<br><b>AQI</b>: nan\",\"DL012<br><b>Station</b>: IGI Airport (T3), Delhi - IMD<br><b>AQI</b>: 99.0\",\"DL013<br><b>Station</b>: IHBAS, Dilshad Garden, Delhi - CPCB<br><b>AQI</b>: 93.0\",\"DL014<br><b>Station</b>: ITO, Delhi - CPCB<br><b>AQI</b>: 157.0\",\"DL015<br><b>Station</b>: Jahangirpuri, Delhi - DPCC<br><b>AQI</b>: 129.0\",\"DL016<br><b>Station</b>: Jawaharlal Nehru Stadium, Delhi - DPCC<br><b>AQI</b>: 123.0\",\"DL017<br><b>Station</b>: Lodhi Road, Delhi - IMD<br><b>AQI</b>: 134.0\",\"DL018<br><b>Station</b>: Major Dhyan Chand National Stadium, Delhi - DPCC<br><b>AQI</b>: 121.0\",\"DL019<br><b>Station</b>: Mandir Marg, Delhi - DPCC<br><b>AQI</b>: 92.0\",\"DL020<br><b>Station</b>: Mundka, Delhi - DPCC<br><b>AQI</b>: 148.0\",\"DL021<br><b>Station</b>: NSIT Dwarka, Delhi - CPCB<br><b>AQI</b>: 123.0\",\"DL022<br><b>Station</b>: Najafgarh, Delhi - DPCC<br><b>AQI</b>: 128.0\",\"DL023<br><b>Station</b>: Narela, Delhi - DPCC<br><b>AQI</b>: 157.0\",\"DL024<br><b>Station</b>: Nehru Nagar, Delhi - DPCC<br><b>AQI</b>: 149.0\",\"DL025<br><b>Station</b>: North Campus, DU, Delhi - IMD<br><b>AQI</b>: 104.0\",\"DL026<br><b>Station</b>: Okhla Phase-2, Delhi - DPCC<br><b>AQI</b>: 109.0\",\"DL027<br><b>Station</b>: Patparganj, Delhi - DPCC<br><b>AQI</b>: 89.0\",\"DL028<br><b>Station</b>: Punjabi Bagh, Delhi - DPCC<br><b>AQI</b>: 149.0\",\"DL029<br><b>Station</b>: Pusa, Delhi - DPCC<br><b>AQI</b>: 117.0\",\"DL030<br><b>Station</b>: Pusa, Delhi - IMD<br><b>AQI</b>: 124.0\",\"DL031<br><b>Station</b>: R K Puram, Delhi - DPCC<br><b>AQI</b>: 101.0\",\"DL032<br><b>Station</b>: Rohini, Delhi - DPCC<br><b>AQI</b>: 138.0\",\"DL033<br><b>Station</b>: Shadipur, Delhi - CPCB<br><b>AQI</b>: 89.0\",\"DL034<br><b>Station</b>: Sirifort, Delhi - CPCB<br><b>AQI</b>: 144.0\",\"DL035<br><b>Station</b>: Sonia Vihar, Delhi - DPCC<br><b>AQI</b>: 125.0\",\"DL036<br><b>Station</b>: Sri Aurobindo Marg, Delhi - DPCC<br><b>AQI</b>: 119.0\",\"DL037<br><b>Station</b>: Vivek Vihar, Delhi - DPCC<br><b>AQI</b>: 122.0\",\"DL038<br><b>Station</b>: Wazirpur, Delhi - DPCC<br><b>AQI</b>: 125.0\",\"GJ001<br><b>Station</b>: Maninagar, Ahmedabad - GPCB<br><b>AQI</b>: 121.0\",\"HR011<br><b>Station</b>: NISE Gwal Pahari, Gurugram - IMD<br><b>AQI</b>: 104.0\",\"HR012<br><b>Station</b>: Sector-51, Gurugram - HSPCB<br><b>AQI</b>: 151.0\",\"HR013<br><b>Station</b>: Teri Gram, Gurugram - HSPCB<br><b>AQI</b>: 112.0\",\"HR014<br><b>Station</b>: Vikas Sadan, Gurugram - HSPCB<br><b>AQI</b>: 139.0\",\"JH001<br><b>Station</b>: Tata Stadium, Jorapokhar - JSPCB<br><b>AQI</b>: 131.0\",\"KA002<br><b>Station</b>: BTM Layout, Bengaluru - CPCB<br><b>AQI</b>: 73.0\",\"KA003<br><b>Station</b>: BWSSB Kadabesanahalli, Bengaluru - CPCB<br><b>AQI</b>: 109.0\",\"KA004<br><b>Station</b>: Bapuji Nagar, Bengaluru - KSPCB<br><b>AQI</b>: 67.0\",\"KA005<br><b>Station</b>: City Railway Station, Bengaluru - KSPCB<br><b>AQI</b>: 84.0\",\"KA006<br><b>Station</b>: Hebbal, Bengaluru - KSPCB<br><b>AQI</b>: 56.0\",\"KA007<br><b>Station</b>: Hombegowda Nagar, Bengaluru - KSPCB<br><b>AQI</b>: 61.0\",\"KA008<br><b>Station</b>: Jayanagar 5th Block, Bengaluru - KSPCB<br><b>AQI</b>: 53.0\",\"KA009<br><b>Station</b>: Peenya, Bengaluru - CPCB<br><b>AQI</b>: 64.0\",\"KA010<br><b>Station</b>: Sanegurava Halli, Bengaluru - KSPCB<br><b>AQI</b>: 55.0\",\"KA011<br><b>Station</b>: Silk Board, Bengaluru - KSPCB<br><b>AQI</b>: 57.0\",\"KL002<br><b>Station</b>: Kacheripady, Ernakulam - Kerala PCB<br><b>AQI</b>: 88.0\",\"KL004<br><b>Station</b>: Vyttila, Kochi - Kerala PCB<br><b>AQI</b>: 91.0\",\"KL007<br><b>Station</b>: Kariavattom, Thiruvananthapuram - Kerala PCB<br><b>AQI</b>: 58.0\",\"KL008<br><b>Station</b>: Plammoodu, Thiruvananthapuram - Kerala PCB<br><b>AQI</b>: 51.0\",\"MH005<br><b>Station</b>: Bandra, Mumbai - MPCB<br><b>AQI</b>: 67.0\",\"MH006<br><b>Station</b>: Borivali East, Mumbai - MPCB<br><b>AQI</b>: 62.0\",\"MH007<br><b>Station</b>: Chhatrapati Shivaji Intl. Airport (T2), Mumbai - MPCB<br><b>AQI</b>: 76.0\",\"MH008<br><b>Station</b>: Colaba, Mumbai - MPCB<br><b>AQI</b>: 53.0\",\"MH009<br><b>Station</b>: Kurla, Mumbai - MPCB<br><b>AQI</b>: 79.0\",\"MH010<br><b>Station</b>: Powai, Mumbai - MPCB<br><b>AQI</b>: 53.0\",\"MH011<br><b>Station</b>: Sion, Mumbai - MPCB<br><b>AQI</b>: 70.0\",\"MH012<br><b>Station</b>: Vasai West, Mumbai - MPCB<br><b>AQI</b>: 70.0\",\"MH013<br><b>Station</b>: Vile Parle West, Mumbai - MPCB<br><b>AQI</b>: 51.0\",\"MH014<br><b>Station</b>: Worli, Mumbai - MPCB<br><b>AQI</b>: 55.0\",\"ML001<br><b>Station</b>: Lumpyngngad, Shillong - Meghalaya PCB<br><b>AQI</b>: 39.0\",\"MP001<br><b>Station</b>: T T Nagar, Bhopal - MPPCB<br><b>AQI</b>: 94.0\",\"MZ001<br><b>Station</b>: Sikulpuikawn, Aizawl - Mizoram PCB<br><b>AQI</b>: 32.0\",\"OD001<br><b>Station</b>: GM Office, Brajrajnagar - OSPCB<br><b>AQI</b>: 134.0\",\"OD002<br><b>Station</b>: Talcher Coalfields,Talcher - OSPCB<br><b>AQI</b>: 110.0\",\"PB001<br><b>Station</b>: Golden Temple, Amritsar - PPCB<br><b>AQI</b>: 80.0\",\"RJ004<br><b>Station</b>: Adarsh Nagar, Jaipur - RSPCB<br><b>AQI</b>: 91.0\",\"RJ005<br><b>Station</b>: Police Commissionerate, Jaipur - RSPCB<br><b>AQI</b>: 97.0\",\"RJ006<br><b>Station</b>: Shastri Nagar, Jaipur - RSPCB<br><b>AQI</b>: 99.0\",\"TG001<br><b>Station</b>: Bollaram Industrial Area, Hyderabad - TSPCB<br><b>AQI</b>: 67.0\",\"TG002<br><b>Station</b>: Central University, Hyderabad - TSPCB<br><b>AQI</b>: 62.0\",\"TG003<br><b>Station</b>: ICRISAT Patancheru, Hyderabad - TSPCB<br><b>AQI</b>: 60.0\",\"TG004<br><b>Station</b>: IDA Pashamylaram, Hyderabad - TSPCB<br><b>AQI</b>: 68.0\",\"TG005<br><b>Station</b>: Sanathnagar, Hyderabad - TSPCB<br><b>AQI</b>: 57.0\",\"TG006<br><b>Station</b>: Zoo Park, Hyderabad - TSPCB<br><b>AQI</b>: 68.0\",\"TN001<br><b>Station</b>: Alandur Bus Depot, Chennai - CPCB<br><b>AQI</b>: 73.0\",\"TN002<br><b>Station</b>: Manali Village, Chennai - TNPCB<br><b>AQI</b>: 111.0\",\"TN003<br><b>Station</b>: Manali, Chennai - CPCB<br><b>AQI</b>: 81.0\",\"TN004<br><b>Station</b>: Velachery Res. Area, Chennai - CPCB<br><b>AQI</b>: 60.0\",\"TN005<br><b>Station</b>: SIDCO Kurichi, Coimbatore - TNPCB<br><b>AQI</b>: 57.0\",\"UP012<br><b>Station</b>: Central School, Lucknow - CPCB<br><b>AQI</b>: 83.0\",\"UP013<br><b>Station</b>: Gomti Nagar, Lucknow - UPPCB<br><b>AQI</b>: 66.0\",\"UP014<br><b>Station</b>: Lalbagh, Lucknow - CPCB<br><b>AQI</b>: 130.0\",\"UP016<br><b>Station</b>: Talkatora District Industries Center, Lucknow - CPCB<br><b>AQI</b>: 143.0\",\"WB007<br><b>Station</b>: Ballygunge, Kolkata - WBPCB<br><b>AQI</b>: 60.0\",\"WB008<br><b>Station</b>: Bidhannagar, Kolkata - WBPCB<br><b>AQI</b>: 60.0\",\"WB009<br><b>Station</b>: Fort William, Kolkata - WBPCB<br><b>AQI</b>: 59.0\",\"WB010<br><b>Station</b>: Jadavpur, Kolkata - WBPCB<br><b>AQI</b>: 55.0\",\"WB011<br><b>Station</b>: Rabindra Bharati University, Kolkata - WBPCB<br><b>AQI</b>: 73.0\",\"WB012<br><b>Station</b>: Rabindra Sarobar, Kolkata - WBPCB<br><b>AQI</b>: 56.0\",\"WB013<br><b>Station</b>: Victoria, Kolkata - WBPCB<br><b>AQI</b>: 66.0\"],\"type\":\"scattermapbox\"}],                        {\"autosize\":true,\"hovermode\":\"closest\",\"mapbox\":{\"accesstoken\":\"pk.eyJ1IjoibWVya2VuZGl6YXIiLCJhIjoiY2t0bndsOHJrMDBzMjJvbzQ0NjlybTc0eSJ9.5X4jIj0tANN07r6kPJdiqQ\",\"bearing\":0,\"center\":{\"lat\":20.5937,\"lon\":78.9629},\"domain\":{\"x\":[0,0.48],\"y\":[0,1]},\"pitch\":0,\"style\":\"outdoors\",\"zoom\":2.5},\"mapbox2\":{\"accesstoken\":\"pk.eyJ1IjoibWVya2VuZGl6YXIiLCJhIjoiY2t0bndsOHJrMDBzMjJvbzQ0NjlybTc0eSJ9.5X4jIj0tANN07r6kPJdiqQ\",\"bearing\":0,\"center\":{\"lat\":20.5937,\"lon\":78.9629},\"domain\":{\"x\":[0.52,1.0],\"y\":[0,1]},\"pitch\":0,\"style\":\"outdoors\",\"zoom\":2.5},\"margin\":{\"b\":20,\"l\":20,\"r\":20,\"t\":40},\"paper_bgcolor\":\"LightSteelBlue\",\"showlegend\":false,\"template\":{\"data\":{\"bar\":[{\"error_x\":{\"color\":\"#2a3f5f\"},\"error_y\":{\"color\":\"#2a3f5f\"},\"marker\":{\"line\":{\"color\":\"#E5ECF6\",\"width\":0.5},\"pattern\":{\"fillmode\":\"overlay\",\"size\":10,\"solidity\":0.2}},\"type\":\"bar\"}],\"barpolar\":[{\"marker\":{\"line\":{\"color\":\"#E5ECF6\",\"width\":0.5},\"pattern\":{\"fillmode\":\"overlay\",\"size\":10,\"solidity\":0.2}},\"type\":\"barpolar\"}],\"carpet\":[{\"aaxis\":{\"endlinecolor\":\"#2a3f5f\",\"gridcolor\":\"white\",\"linecolor\":\"white\",\"minorgridcolor\":\"white\",\"startlinecolor\":\"#2a3f5f\"},\"baxis\":{\"endlinecolor\":\"#2a3f5f\",\"gridcolor\":\"white\",\"linecolor\":\"white\",\"minorgridcolor\":\"white\",\"startlinecolor\":\"#2a3f5f\"},\"type\":\"carpet\"}],\"choropleth\":[{\"colorbar\":{\"outlinewidth\":0,\"ticks\":\"\"},\"type\":\"choropleth\"}],\"contour\":[{\"colorbar\":{\"outlinewidth\":0,\"ticks\":\"\"},\"colorscale\":[[0.0,\"#0d0887\"],[0.1111111111111111,\"#46039f\"],[0.2222222222222222,\"#7201a8\"],[0.3333333333333333,\"#9c179e\"],[0.4444444444444444,\"#bd3786\"],[0.5555555555555556,\"#d8576b\"],[0.6666666666666666,\"#ed7953\"],[0.7777777777777778,\"#fb9f3a\"],[0.8888888888888888,\"#fdca26\"],[1.0,\"#f0f921\"]],\"type\":\"contour\"}],\"contourcarpet\":[{\"colorbar\":{\"outlinewidth\":0,\"ticks\":\"\"},\"type\":\"contourcarpet\"}],\"heatmap\":[{\"colorbar\":{\"outlinewidth\":0,\"ticks\":\"\"},\"colorscale\":[[0.0,\"#0d0887\"],[0.1111111111111111,\"#46039f\"],[0.2222222222222222,\"#7201a8\"],[0.3333333333333333,\"#9c179e\"],[0.4444444444444444,\"#bd3786\"],[0.5555555555555556,\"#d8576b\"],[0.6666666666666666,\"#ed7953\"],[0.7777777777777778,\"#fb9f3a\"],[0.8888888888888888,\"#fdca26\"],[1.0,\"#f0f921\"]],\"type\":\"heatmap\"}],\"heatmapgl\":[{\"colorbar\":{\"outlinewidth\":0,\"ticks\":\"\"},\"colorscale\":[[0.0,\"#0d0887\"],[0.1111111111111111,\"#46039f\"],[0.2222222222222222,\"#7201a8\"],[0.3333333333333333,\"#9c179e\"],[0.4444444444444444,\"#bd3786\"],[0.5555555555555556,\"#d8576b\"],[0.6666666666666666,\"#ed7953\"],[0.7777777777777778,\"#fb9f3a\"],[0.8888888888888888,\"#fdca26\"],[1.0,\"#f0f921\"]],\"type\":\"heatmapgl\"}],\"histogram\":[{\"marker\":{\"pattern\":{\"fillmode\":\"overlay\",\"size\":10,\"solidity\":0.2}},\"type\":\"histogram\"}],\"histogram2d\":[{\"colorbar\":{\"outlinewidth\":0,\"ticks\":\"\"},\"colorscale\":[[0.0,\"#0d0887\"],[0.1111111111111111,\"#46039f\"],[0.2222222222222222,\"#7201a8\"],[0.3333333333333333,\"#9c179e\"],[0.4444444444444444,\"#bd3786\"],[0.5555555555555556,\"#d8576b\"],[0.6666666666666666,\"#ed7953\"],[0.7777777777777778,\"#fb9f3a\"],[0.8888888888888888,\"#fdca26\"],[1.0,\"#f0f921\"]],\"type\":\"histogram2d\"}],\"histogram2dcontour\":[{\"colorbar\":{\"outlinewidth\":0,\"ticks\":\"\"},\"colorscale\":[[0.0,\"#0d0887\"],[0.1111111111111111,\"#46039f\"],[0.2222222222222222,\"#7201a8\"],[0.3333333333333333,\"#9c179e\"],[0.4444444444444444,\"#bd3786\"],[0.5555555555555556,\"#d8576b\"],[0.6666666666666666,\"#ed7953\"],[0.7777777777777778,\"#fb9f3a\"],[0.8888888888888888,\"#fdca26\"],[1.0,\"#f0f921\"]],\"type\":\"histogram2dcontour\"}],\"mesh3d\":[{\"colorbar\":{\"outlinewidth\":0,\"ticks\":\"\"},\"type\":\"mesh3d\"}],\"parcoords\":[{\"line\":{\"colorbar\":{\"outlinewidth\":0,\"ticks\":\"\"}},\"type\":\"parcoords\"}],\"pie\":[{\"automargin\":true,\"type\":\"pie\"}],\"scatter\":[{\"marker\":{\"colorbar\":{\"outlinewidth\":0,\"ticks\":\"\"}},\"type\":\"scatter\"}],\"scatter3d\":[{\"line\":{\"colorbar\":{\"outlinewidth\":0,\"ticks\":\"\"}},\"marker\":{\"colorbar\":{\"outlinewidth\":0,\"ticks\":\"\"}},\"type\":\"scatter3d\"}],\"scattercarpet\":[{\"marker\":{\"colorbar\":{\"outlinewidth\":0,\"ticks\":\"\"}},\"type\":\"scattercarpet\"}],\"scattergeo\":[{\"marker\":{\"colorbar\":{\"outlinewidth\":0,\"ticks\":\"\"}},\"type\":\"scattergeo\"}],\"scattergl\":[{\"marker\":{\"colorbar\":{\"outlinewidth\":0,\"ticks\":\"\"}},\"type\":\"scattergl\"}],\"scattermapbox\":[{\"marker\":{\"colorbar\":{\"outlinewidth\":0,\"ticks\":\"\"}},\"type\":\"scattermapbox\"}],\"scatterpolar\":[{\"marker\":{\"colorbar\":{\"outlinewidth\":0,\"ticks\":\"\"}},\"type\":\"scatterpolar\"}],\"scatterpolargl\":[{\"marker\":{\"colorbar\":{\"outlinewidth\":0,\"ticks\":\"\"}},\"type\":\"scatterpolargl\"}],\"scatterternary\":[{\"marker\":{\"colorbar\":{\"outlinewidth\":0,\"ticks\":\"\"}},\"type\":\"scatterternary\"}],\"surface\":[{\"colorbar\":{\"outlinewidth\":0,\"ticks\":\"\"},\"colorscale\":[[0.0,\"#0d0887\"],[0.1111111111111111,\"#46039f\"],[0.2222222222222222,\"#7201a8\"],[0.3333333333333333,\"#9c179e\"],[0.4444444444444444,\"#bd3786\"],[0.5555555555555556,\"#d8576b\"],[0.6666666666666666,\"#ed7953\"],[0.7777777777777778,\"#fb9f3a\"],[0.8888888888888888,\"#fdca26\"],[1.0,\"#f0f921\"]],\"type\":\"surface\"}],\"table\":[{\"cells\":{\"fill\":{\"color\":\"#EBF0F8\"},\"line\":{\"color\":\"white\"}},\"header\":{\"fill\":{\"color\":\"#C8D4E3\"},\"line\":{\"color\":\"white\"}},\"type\":\"table\"}]},\"layout\":{\"annotationdefaults\":{\"arrowcolor\":\"#2a3f5f\",\"arrowhead\":0,\"arrowwidth\":1},\"autotypenumbers\":\"strict\",\"coloraxis\":{\"colorbar\":{\"outlinewidth\":0,\"ticks\":\"\"}},\"colorscale\":{\"diverging\":[[0,\"#8e0152\"],[0.1,\"#c51b7d\"],[0.2,\"#de77ae\"],[0.3,\"#f1b6da\"],[0.4,\"#fde0ef\"],[0.5,\"#f7f7f7\"],[0.6,\"#e6f5d0\"],[0.7,\"#b8e186\"],[0.8,\"#7fbc41\"],[0.9,\"#4d9221\"],[1,\"#276419\"]],\"sequential\":[[0.0,\"#0d0887\"],[0.1111111111111111,\"#46039f\"],[0.2222222222222222,\"#7201a8\"],[0.3333333333333333,\"#9c179e\"],[0.4444444444444444,\"#bd3786\"],[0.5555555555555556,\"#d8576b\"],[0.6666666666666666,\"#ed7953\"],[0.7777777777777778,\"#fb9f3a\"],[0.8888888888888888,\"#fdca26\"],[1.0,\"#f0f921\"]],\"sequentialminus\":[[0.0,\"#0d0887\"],[0.1111111111111111,\"#46039f\"],[0.2222222222222222,\"#7201a8\"],[0.3333333333333333,\"#9c179e\"],[0.4444444444444444,\"#bd3786\"],[0.5555555555555556,\"#d8576b\"],[0.6666666666666666,\"#ed7953\"],[0.7777777777777778,\"#fb9f3a\"],[0.8888888888888888,\"#fdca26\"],[1.0,\"#f0f921\"]]},\"colorway\":[\"#636efa\",\"#EF553B\",\"#00cc96\",\"#ab63fa\",\"#FFA15A\",\"#19d3f3\",\"#FF6692\",\"#B6E880\",\"#FF97FF\",\"#FECB52\"],\"font\":{\"color\":\"#2a3f5f\"},\"geo\":{\"bgcolor\":\"white\",\"lakecolor\":\"white\",\"landcolor\":\"#E5ECF6\",\"showlakes\":true,\"showland\":true,\"subunitcolor\":\"white\"},\"hoverlabel\":{\"align\":\"left\"},\"hovermode\":\"closest\",\"mapbox\":{\"style\":\"light\"},\"paper_bgcolor\":\"white\",\"plot_bgcolor\":\"#E5ECF6\",\"polar\":{\"angularaxis\":{\"gridcolor\":\"white\",\"linecolor\":\"white\",\"ticks\":\"\"},\"bgcolor\":\"#E5ECF6\",\"radialaxis\":{\"gridcolor\":\"white\",\"linecolor\":\"white\",\"ticks\":\"\"}},\"scene\":{\"xaxis\":{\"backgroundcolor\":\"#E5ECF6\",\"gridcolor\":\"white\",\"gridwidth\":2,\"linecolor\":\"white\",\"showbackground\":true,\"ticks\":\"\",\"zerolinecolor\":\"white\"},\"yaxis\":{\"backgroundcolor\":\"#E5ECF6\",\"gridcolor\":\"white\",\"gridwidth\":2,\"linecolor\":\"white\",\"showbackground\":true,\"ticks\":\"\",\"zerolinecolor\":\"white\"},\"zaxis\":{\"backgroundcolor\":\"#E5ECF6\",\"gridcolor\":\"white\",\"gridwidth\":2,\"linecolor\":\"white\",\"showbackground\":true,\"ticks\":\"\",\"zerolinecolor\":\"white\"}},\"shapedefaults\":{\"line\":{\"color\":\"#2a3f5f\"}},\"ternary\":{\"aaxis\":{\"gridcolor\":\"white\",\"linecolor\":\"white\",\"ticks\":\"\"},\"baxis\":{\"gridcolor\":\"white\",\"linecolor\":\"white\",\"ticks\":\"\"},\"bgcolor\":\"#E5ECF6\",\"caxis\":{\"gridcolor\":\"white\",\"linecolor\":\"white\",\"ticks\":\"\"}},\"title\":{\"x\":0.05},\"xaxis\":{\"automargin\":true,\"gridcolor\":\"white\",\"linecolor\":\"white\",\"ticks\":\"\",\"title\":{\"standoff\":15},\"zerolinecolor\":\"white\",\"zerolinewidth\":2},\"yaxis\":{\"automargin\":true,\"gridcolor\":\"white\",\"linecolor\":\"white\",\"ticks\":\"\",\"title\":{\"standoff\":15},\"zerolinecolor\":\"white\",\"zerolinewidth\":2}}},\"title\":{\"text\":\"India: Before & After Lockdown\"}},                        {\"responsive\": true}                    ).then(function(){\n",
       "                            \n",
       "var gd = document.getElementById('79d6fe85-defe-45e4-9f02-cb06a643beac');\n",
       "var x = new MutationObserver(function (mutations, observer) {{\n",
       "        var display = window.getComputedStyle(gd).display;\n",
       "        if (!display || display === 'none') {{\n",
       "            console.log([gd, 'removed!']);\n",
       "            Plotly.purge(gd);\n",
       "            observer.disconnect();\n",
       "        }}\n",
       "}});\n",
       "\n",
       "// Listen for the removal of the full notebook cells\n",
       "var notebookContainer = gd.closest('#notebook-container');\n",
       "if (notebookContainer) {{\n",
       "    x.observe(notebookContainer, {childList: true});\n",
       "}}\n",
       "\n",
       "// Listen for the clearing of the current output cell\n",
       "var outputEl = gd.closest('.output');\n",
       "if (outputEl) {{\n",
       "    x.observe(outputEl, {childList: true});\n",
       "}}\n",
       "\n",
       "                        })                };                });            </script>        </div>"
      ]
     },
     "metadata": {},
     "output_type": "display_data"
    }
   ],
   "source": [
    "dict_center_zoom={\n",
    "    'India':[(20.5937,78.9629),2.5],\n",
    "    #'Bengaluru':[(12.9716,77.5946),9],\n",
    "    #'Delhi':[(28.7041,77.1025),8],\n",
    "    #'Mumbai':[(19.0760,72.8777),8],\n",
    "    #'Hyderabad':[(17.3850,78.4867),8],\n",
    "    #'Chennai':[(13.0827,80.2707),9]\n",
    "}\n",
    "\n",
    "def draw_aqi_map(df,city):\n",
    "    if city=='India':\n",
    "        df0 = df\n",
    "    else:\n",
    "        if city=='Bengaluru':\n",
    "            state='Karnataka'\n",
    "        elif city=='Mumbai':\n",
    "            state='Maharashtra'\n",
    "        elif city=='Hyderabad':\n",
    "            state='Telangana'\n",
    "        elif city=='Chennai':\n",
    "            state='Tamil Nadu'\n",
    "        else:\n",
    "            state=city\n",
    "        df0 = df[df['State']==state]\n",
    "    \n",
    "\n",
    "    fig = go.Figure()\n",
    "\n",
    "    df1=df0[df0['Period']=='Before']\n",
    "    fig.add_trace(go.Scattermapbox(name='Before Lockdown',\n",
    "        lat=df1.Latitude,\n",
    "        lon=df1.Longitude,\n",
    "        mode='markers',\n",
    "        marker=go.scattermapbox.Marker(\n",
    "            size=17,\n",
    "            color=df1.AQI,\n",
    "            colorscale=scale(df1.AQI),\n",
    "            opacity=0.7\n",
    "        ),\n",
    "        text=df1.StationId.astype(str)+'<br><b>Station</b>: '+df1.StationName+'<br><b>AQI</b>: '+np.round(df1.AQI).astype(str),\n",
    "        hoverinfo='text',\n",
    "        subplot='mapbox'\n",
    "    ))\n",
    "\n",
    "    df2=df0[df0['Period']=='After']\n",
    "    fig.add_trace(go.Scattermapbox(name='After Lockdown',\n",
    "        lat=df2.Latitude,\n",
    "        lon=df2.Longitude,\n",
    "        mode='markers',\n",
    "        marker=go.scattermapbox.Marker(\n",
    "            size=17,\n",
    "            color=df2.AQI,\n",
    "            colorscale=scale(df2.AQI),\n",
    "            opacity=0.7\n",
    "        ),\n",
    "        text=df2.StationId.astype(str)+'<br><b>Station</b>: '+df2.StationName+'<br><b>AQI</b>: '+np.round(df2.AQI).astype(str),\n",
    "        hoverinfo='text',\n",
    "        subplot='mapbox2'\n",
    "    ))\n",
    "\n",
    "    fig.update_layout(\n",
    "        title=city + ': Before & After Lockdown',\n",
    "        paper_bgcolor=BGCOLOR,\n",
    "        margin=dict(l=20,r=20,t=40,b=20),\n",
    "        showlegend=False,\n",
    "        autosize=True,\n",
    "        hovermode='closest',\n",
    "        mapbox=dict(accesstoken=secret_value_1,\n",
    "                    style='outdoors',\n",
    "#                     layers= [{\n",
    "#             \"below\": 'traces',\n",
    "#             \"sourcetype\": \"raster\",\n",
    "#             \"source\": [\n",
    "#                 \"https://basemap.nationalmap.gov/arcgis/rest/services/USGSImageryOnly/MapServer/tile/{z}/{y}/{x}\"\n",
    "#             ]}],\n",
    "            domain={'x': [0, 0.48], 'y': [0, 1]},\n",
    "                bearing=0,\n",
    "                center=dict(\n",
    "                lat=dict_center_zoom[city][0][0],\n",
    "                lon=dict_center_zoom[city][0][1]\n",
    "            ),\n",
    "        pitch=0,\n",
    "        zoom=dict_center_zoom[city][1]\n",
    "        ),\n",
    "        mapbox2=dict(accesstoken=secret_value_1,\n",
    "            style='outdoors',\n",
    "            domain={'x': [0.52, 1.0], 'y': [0, 1]},\n",
    "            bearing=0,\n",
    "            center=dict(\n",
    "                lat=dict_center_zoom[city][0][0],\n",
    "                lon=dict_center_zoom[city][0][1]\n",
    "            ),\n",
    "            pitch=0,\n",
    "            zoom=dict_center_zoom[city][1],\n",
    "        ),\n",
    "    )\n",
    "    return fig\n",
    "draw_aqi_map(df_ind,'India')"
   ]
  },
  {
   "cell_type": "code",
   "execution_count": 8,
   "id": "1e7d83ca",
   "metadata": {},
   "outputs": [],
   "source": [
    "secret_value_1 = 'pk.eyJ1IjoibWVya2VuZGl6YXIiLCJhIjoiY2t0bndsOHJrMDBzMjJvbzQ0NjlybTc0eSJ9.5X4jIj0tANN07r6kPJdiqQ' "
   ]
  },
  {
   "cell_type": "code",
   "execution_count": null,
   "id": "c8067473",
   "metadata": {},
   "outputs": [],
   "source": []
  },
  {
   "cell_type": "code",
   "execution_count": null,
   "id": "b7889a49",
   "metadata": {},
   "outputs": [],
   "source": []
  }
 ],
 "metadata": {
  "kernelspec": {
   "display_name": "Python 3",
   "language": "python",
   "name": "python3"
  },
  "language_info": {
   "codemirror_mode": {
    "name": "ipython",
    "version": 3
   },
   "file_extension": ".py",
   "mimetype": "text/x-python",
   "name": "python",
   "nbconvert_exporter": "python",
   "pygments_lexer": "ipython3",
   "version": "3.8.8"
  }
 },
 "nbformat": 4,
 "nbformat_minor": 5
}
